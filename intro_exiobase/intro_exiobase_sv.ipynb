{
 "cells": [
  {
   "cell_type": "markdown",
   "metadata": {
    "slideshow": {
     "slide_type": "slide"
    }
   },
   "source": [
    "# Practical 5: Introduction to exiobase\n",
    "\n",
    "In this practical, you will learn how to load and work with exiobase\n",
    "\n",
    "You can download exiobase through this link https://zenodo.org/record/5589597\n",
    " \n",
    "We will work with: IOT_2019_pxp.zip\n",
    "\n",
    "The objectives of the practical are:\n",
    "- See the data available within exiobase\n",
    "- Calculate footprints using exiobase\n",
    "- Make a visualization"
   ]
  },
  {
   "cell_type": "markdown",
   "metadata": {
    "slideshow": {
     "slide_type": "subslide"
    }
   },
   "source": [
    "## Exercise 1: Load the data\n",
    "\n",
    "Import the IO exiobase data for the year 2019 in product-by-product format"
   ]
  },
  {
   "cell_type": "code",
   "execution_count": 37,
   "metadata": {
    "slideshow": {
     "slide_type": "fragment"
    }
   },
   "outputs": [],
   "source": [
    "# Import modules\n",
    "import pandas as pd\n",
    "idx = pd.IndexSlice\n",
    "import numpy as np"
   ]
  },
  {
   "cell_type": "markdown",
   "metadata": {
    "slideshow": {
     "slide_type": "subslide"
    }
   },
   "source": [
    "#### 1.1 Import exiobase\n",
    "\n",
    "Beware: exiobase is composed by large datasets so it may take some time to load and process"
   ]
  },
  {
   "cell_type": "code",
<<<<<<< HEAD
   "execution_count": 28,
=======
   "execution_count": null,
>>>>>>> 94e09d9575c9be15f0fb34c7cde5e3efab04f072
   "metadata": {
    "slideshow": {
     "slide_type": "fragment"
    }
   },
   "outputs": [],
   "source": [
<<<<<<< HEAD
    "A = pd.read_csv(\"data/A.txt\", delimiter=\"\\t\", index_col=[0,1], header=[0, 1]) # A matrix\n",
    "Y = pd.read_csv(\"data/Y.txt\", delimiter=\"\\t\", index_col=[0,1], header=[0, 1])  # Y matrix\n",
    "F = pd.read_csv(\"data/impacts/F.txt\", delimiter=\"\\t\", index_col=[0], header=[0,1])  # impacts matrix\n",
    "F_hh = pd.read_csv(\"data/impacts/F_Y.txt\", delimiter=\"\\t\", index_col=[0], header=[0,1]) # impacts for FD matrix"
=======
    "A = None  # A matrix\n",
    "Y = None  # Y matrix\n",
    "F = None  # impacts matrix\n",
    "F_hh = None  # impacts for FD matrix"
>>>>>>> 94e09d9575c9be15f0fb34c7cde5e3efab04f072
   ]
  },
  {
   "cell_type": "markdown",
   "metadata": {
    "slideshow": {
     "slide_type": "subslide"
    }
   },
   "source": [
    "#### 1.2 Look at the available labels in exiobase\n",
    "You may do this by printing the labels of your imported matrices or by opening the following files in your data folder:\n",
    "- finaldemands.txt\n",
    "- products.txt\n",
    "- impacts/unit.txt"
   ]
  },
  {
   "cell_type": "code",
   "execution_count": null,
   "metadata": {
    "slideshow": {
     "slide_type": "fragment"
    }
   },
   "outputs": [],
   "source": [
    "units = None\n",
    "units"
   ]
  },
  {
   "cell_type": "markdown",
   "metadata": {
    "slideshow": {
     "slide_type": "subslide"
    }
   },
   "source": [
    "Since we don't have a file showing all individual regions. \n",
    "Here is a code example of how you can get a list of all the regions within exiobase"
   ]
  },
  {
   "cell_type": "code",
<<<<<<< HEAD
   "execution_count": 4,
   "metadata": {},
   "outputs": [
    {
     "data": {
      "text/plain": [
       "MultiIndex([('AT',                                          'Paddy rice'),\n",
       "            ('AT',                                               'Wheat'),\n",
       "            ('AT',                                   'Cereal grains nec'),\n",
       "            ('AT',                             'Vegetables, fruit, nuts'),\n",
       "            ('AT',                                           'Oil seeds'),\n",
       "            ('AT',                              'Sugar cane, sugar beet'),\n",
       "            ('AT',                                  'Plant-based fibers'),\n",
       "            ('AT',                                           'Crops nec'),\n",
       "            ('AT',                                              'Cattle'),\n",
       "            ('AT',                                                'Pigs'),\n",
       "            ...\n",
       "            ('WM',                       'Paper for treatment: landfill'),\n",
       "            ('WM',               'Plastic waste for treatment: landfill'),\n",
       "            ('WM', 'Inert/metal/hazardous waste for treatment: landfill'),\n",
       "            ('WM',              'Textiles waste for treatment: landfill'),\n",
       "            ('WM',                  'Wood waste for treatment: landfill'),\n",
       "            ('WM',        'Membership organisation services n.e.c. (91)'),\n",
       "            ('WM',   'Recreational, cultural and sporting services (92)'),\n",
       "            ('WM',                                 'Other services (93)'),\n",
       "            ('WM',       'Private households with employed persons (95)'),\n",
       "            ('WM',          'Extra-territorial organizations and bodies')],\n",
       "           names=['region', 'sector'], length=9800)"
      ]
     },
     "execution_count": 4,
     "metadata": {},
     "output_type": "execute_result"
    }
   ],
=======
   "execution_count": null,
   "metadata": {
    "slideshow": {
     "slide_type": "fragment"
    }
   },
   "outputs": [],
>>>>>>> 94e09d9575c9be15f0fb34c7cde5e3efab04f072
   "source": [
    "# First we collect all labels from A\n",
    "A_labels = A.index\n",
    "A_labels"
   ]
  },
  {
   "cell_type": "code",
   "execution_count": 6,
   "metadata": {
    "slideshow": {
     "slide_type": "subslide"
    }
   },
   "outputs": [
    {
     "data": {
      "text/html": [
       "<div>\n",
       "<style scoped>\n",
       "    .dataframe tbody tr th:only-of-type {\n",
       "        vertical-align: middle;\n",
       "    }\n",
       "\n",
       "    .dataframe tbody tr th {\n",
       "        vertical-align: top;\n",
       "    }\n",
       "\n",
       "    .dataframe thead th {\n",
       "        text-align: right;\n",
       "    }\n",
       "</style>\n",
       "<table border=\"1\" class=\"dataframe\">\n",
       "  <thead>\n",
       "    <tr style=\"text-align: right;\">\n",
       "      <th></th>\n",
       "      <th>region</th>\n",
       "      <th>sector</th>\n",
       "    </tr>\n",
       "  </thead>\n",
       "  <tbody>\n",
       "    <tr>\n",
       "      <th>0</th>\n",
       "      <td>AT</td>\n",
       "      <td>Paddy rice</td>\n",
       "    </tr>\n",
       "    <tr>\n",
       "      <th>1</th>\n",
       "      <td>AT</td>\n",
       "      <td>Wheat</td>\n",
       "    </tr>\n",
       "    <tr>\n",
       "      <th>2</th>\n",
       "      <td>AT</td>\n",
       "      <td>Cereal grains nec</td>\n",
       "    </tr>\n",
       "    <tr>\n",
       "      <th>3</th>\n",
       "      <td>AT</td>\n",
       "      <td>Vegetables, fruit, nuts</td>\n",
       "    </tr>\n",
       "    <tr>\n",
       "      <th>4</th>\n",
       "      <td>AT</td>\n",
       "      <td>Oil seeds</td>\n",
       "    </tr>\n",
       "    <tr>\n",
       "      <th>...</th>\n",
       "      <td>...</td>\n",
       "      <td>...</td>\n",
       "    </tr>\n",
       "    <tr>\n",
       "      <th>9795</th>\n",
       "      <td>WM</td>\n",
       "      <td>Membership organisation services n.e.c. (91)</td>\n",
       "    </tr>\n",
       "    <tr>\n",
       "      <th>9796</th>\n",
       "      <td>WM</td>\n",
       "      <td>Recreational, cultural and sporting services (92)</td>\n",
       "    </tr>\n",
       "    <tr>\n",
       "      <th>9797</th>\n",
       "      <td>WM</td>\n",
       "      <td>Other services (93)</td>\n",
       "    </tr>\n",
       "    <tr>\n",
       "      <th>9798</th>\n",
       "      <td>WM</td>\n",
       "      <td>Private households with employed persons (95)</td>\n",
       "    </tr>\n",
       "    <tr>\n",
       "      <th>9799</th>\n",
       "      <td>WM</td>\n",
       "      <td>Extra-territorial organizations and bodies</td>\n",
       "    </tr>\n",
       "  </tbody>\n",
       "</table>\n",
       "<p>9800 rows × 2 columns</p>\n",
       "</div>"
      ],
      "text/plain": [
       "     region                                             sector\n",
       "0        AT                                         Paddy rice\n",
       "1        AT                                              Wheat\n",
       "2        AT                                  Cereal grains nec\n",
       "3        AT                            Vegetables, fruit, nuts\n",
       "4        AT                                          Oil seeds\n",
       "...     ...                                                ...\n",
       "9795     WM       Membership organisation services n.e.c. (91)\n",
       "9796     WM  Recreational, cultural and sporting services (92)\n",
       "9797     WM                                Other services (93)\n",
       "9798     WM      Private households with employed persons (95)\n",
       "9799     WM         Extra-territorial organizations and bodies\n",
       "\n",
       "[9800 rows x 2 columns]"
      ]
     },
     "execution_count": 6,
     "metadata": {},
     "output_type": "execute_result"
    }
   ],
   "source": [
<<<<<<< HEAD
    "# .to_frame() to turn the collected labels into a dataframe\n",
    "A_labels = A.index.to_frame(index=None)\n",
=======
    "# .to_frame to turn the collected labels into a dataframe\n",
    "A_labels = None\n",
>>>>>>> 94e09d9575c9be15f0fb34c7cde5e3efab04f072
    "A_labels"
   ]
  },
  {
   "cell_type": "markdown",
   "metadata": {
    "slideshow": {
     "slide_type": "subslide"
    }
   },
   "source": [
    "A_labels is composed by two columns \"region\" and \"sector\"\n",
    "by doing \n",
    "\n",
    "> A_labels.region \n",
    "\n",
    "or \n",
    "\n",
    "> A_labels.sector \n",
    "\n",
    "you can access the specific columns \n",
    "\n",
    "N.b.\n",
    "it is the equivalent of doing \n",
    "\n",
    "> A_labels.loc[:, \"region\"]"
   ]
  },
  {
   "cell_type": "markdown",
   "metadata": {
    "slideshow": {
     "slide_type": "slide"
    }
   },
   "source": [
    "How do we know how many regions, sectors or categories do we have available?"
   ]
  },
  {
   "cell_type": "code",
   "execution_count": 92,
   "metadata": {
    "slideshow": {
     "slide_type": "fragment"
    }
   },
   "outputs": [
    {
     "name": "stdout",
     "output_type": "stream",
     "text": [
      "AT, BE, BG, CY, CZ, DE, DK, EE, ES, FI, FR, GR, HR, HU, IE, IT, LT, LU, LV, MT, NL, PL, PT, RO, SE, SI, SK, GB, US, JP, CN, CA, KR, BR, IN, MX, RU, AU, CH, TR, TW, NO, ID, ZA, WA, WL, WE, WF, WM\n"
     ]
    }
   ],
   "source": [
    "# Then we extract region column and eliminate any duplicate labels\n",
    "# We do this because the labels are replicated for each sectoral category in each region\n",
    "regions_labels = A_labels.region.unique()\n",
    "\n",
    "# We print the regional labels so that we can see the regions we have to work with\n",
    "print(*regions_labels, sep=\", \")"
   ]
  },
  {
   "cell_type": "code",
<<<<<<< HEAD
   "execution_count": 9,
=======
   "execution_count": null,
>>>>>>> 94e09d9575c9be15f0fb34c7cde5e3efab04f072
   "metadata": {
    "slideshow": {
     "slide_type": "subslide"
    }
   },
   "outputs": [
    {
     "data": {
      "text/plain": [
       "array(['Paddy rice', 'Wheat', 'Cereal grains nec',\n",
       "       'Vegetables, fruit, nuts', 'Oil seeds', 'Sugar cane, sugar beet',\n",
       "       'Plant-based fibers', 'Crops nec', 'Cattle', 'Pigs', 'Poultry',\n",
       "       'Meat animals nec', 'Animal products nec', 'Raw milk',\n",
       "       'Wool, silk-worm cocoons', 'Manure (conventional treatment)',\n",
       "       'Manure (biogas treatment)',\n",
       "       'Products of forestry, logging and related services (02)',\n",
       "       'Fish and other fishing products; services incidental of fishing (05)',\n",
       "       'Anthracite', 'Coking Coal', 'Other Bituminous Coal',\n",
       "       'Sub-Bituminous Coal', 'Patent Fuel', 'Lignite/Brown Coal',\n",
       "       'BKB/Peat Briquettes', 'Peat',\n",
       "       'Crude petroleum and services related to crude oil extraction, excluding surveying',\n",
       "       'Natural gas and services related to natural gas extraction, excluding surveying',\n",
       "       'Natural Gas Liquids', 'Other Hydrocarbons',\n",
       "       'Uranium and thorium ores (12)', 'Iron ores',\n",
       "       'Copper ores and concentrates', 'Nickel ores and concentrates',\n",
       "       'Aluminium ores and concentrates',\n",
       "       'Precious metal ores and concentrates',\n",
       "       'Lead, zinc and tin ores and concentrates',\n",
       "       'Other non-ferrous metal ores and concentrates', 'Stone',\n",
       "       'Sand and clay',\n",
       "       'Chemical and fertilizer minerals, salt and other mining and quarrying products n.e.c.',\n",
       "       'Products of meat cattle', 'Products of meat pigs',\n",
       "       'Products of meat poultry', 'Meat products nec',\n",
       "       'products of Vegetable oils and fats', 'Dairy products',\n",
       "       'Processed rice', 'Sugar', 'Food products nec', 'Beverages',\n",
       "       'Fish products', 'Tobacco products (16)', 'Textiles (17)',\n",
       "       'Wearing apparel; furs (18)', 'Leather and leather products (19)',\n",
       "       'Wood and products of wood and cork (except furniture); articles of straw and plaiting materials (20)',\n",
       "       'Wood material for treatment, Re-processing of secondary wood material into new wood material',\n",
       "       'Pulp',\n",
       "       'Secondary paper for treatment, Re-processing of secondary paper into new pulp',\n",
       "       'Paper and paper products',\n",
       "       'Printed matter and recorded media (22)', 'Coke Oven Coke',\n",
       "       'Gas Coke', 'Coal Tar', 'Motor Gasoline', 'Aviation Gasoline',\n",
       "       'Gasoline Type Jet Fuel', 'Kerosene Type Jet Fuel', 'Kerosene',\n",
       "       'Gas/Diesel Oil', 'Heavy Fuel Oil', 'Refinery Gas',\n",
       "       'Liquefied Petroleum Gases (LPG)', 'Refinery Feedstocks', 'Ethane',\n",
       "       'Naphtha', 'White Spirit & SBP', 'Lubricants', 'Bitumen',\n",
       "       'Paraffin Waxes', 'Petroleum Coke',\n",
       "       'Non-specified Petroleum Products', 'Nuclear fuel',\n",
       "       'Plastics, basic',\n",
       "       'Secondary plastic for treatment, Re-processing of secondary plastic into new plastic',\n",
       "       'N-fertiliser', 'P- and other fertiliser', 'Chemicals nec',\n",
       "       'Charcoal', 'Additives/Blending Components', 'Biogasoline',\n",
       "       'Biodiesels', 'Other Liquid Biofuels',\n",
       "       'Rubber and plastic products (25)', 'Glass and glass products',\n",
       "       'Secondary glass for treatment, Re-processing of secondary glass into new glass',\n",
       "       'Ceramic goods',\n",
       "       'Bricks, tiles and construction products, in baked clay',\n",
       "       'Cement, lime and plaster',\n",
       "       'Ash for treatment, Re-processing of ash into clinker',\n",
       "       'Other non-metallic mineral products',\n",
       "       'Basic iron and steel and of ferro-alloys and first products thereof',\n",
       "       'Secondary steel for treatment, Re-processing of secondary steel into new steel',\n",
       "       'Precious metals',\n",
       "       'Secondary preciuos metals for treatment, Re-processing of secondary preciuos metals into new preciuos metals',\n",
       "       'Aluminium and aluminium products',\n",
       "       'Secondary aluminium for treatment, Re-processing of secondary aluminium into new aluminium',\n",
       "       'Lead, zinc and tin and products thereof',\n",
       "       'Secondary lead for treatment, Re-processing of secondary lead into new lead',\n",
       "       'Copper products',\n",
       "       'Secondary copper for treatment, Re-processing of secondary copper into new copper',\n",
       "       'Other non-ferrous metal products',\n",
       "       'Secondary other non-ferrous metals for treatment, Re-processing of secondary other non-ferrous metals into new other non-ferrous metals',\n",
       "       'Foundry work services',\n",
       "       'Fabricated metal products, except machinery and equipment (28)',\n",
       "       'Machinery and equipment n.e.c. (29)',\n",
       "       'Office machinery and computers (30)',\n",
       "       'Electrical machinery and apparatus n.e.c. (31)',\n",
       "       'Radio, television and communication equipment and apparatus (32)',\n",
       "       'Medical, precision and optical instruments, watches and clocks (33)',\n",
       "       'Motor vehicles, trailers and semi-trailers (34)',\n",
       "       'Other transport equipment (35)',\n",
       "       'Furniture; other manufactured goods n.e.c. (36)',\n",
       "       'Secondary raw materials',\n",
       "       'Bottles for treatment, Recycling of bottles by direct reuse',\n",
       "       'Electricity by coal', 'Electricity by gas',\n",
       "       'Electricity by nuclear', 'Electricity by hydro',\n",
       "       'Electricity by wind',\n",
       "       'Electricity by petroleum and other oil derivatives',\n",
       "       'Electricity by biomass and waste',\n",
       "       'Electricity by solar photovoltaic',\n",
       "       'Electricity by solar thermal', 'Electricity by tide, wave, ocean',\n",
       "       'Electricity by Geothermal', 'Electricity nec',\n",
       "       'Transmission services of electricity',\n",
       "       'Distribution and trade services of electricity', 'Coke oven gas',\n",
       "       'Blast Furnace Gas', 'Oxygen Steel Furnace Gas', 'Gas Works Gas',\n",
       "       'Biogas', 'Distribution services of gaseous fuels through mains',\n",
       "       'Steam and hot water supply services',\n",
       "       'Collected and purified water, distribution services of water (41)',\n",
       "       'Construction work (45)',\n",
       "       'Secondary construction material for treatment, Re-processing of secondary construction material into aggregates',\n",
       "       'Sale, maintenance, repair of motor vehicles, motor vehicles parts, motorcycles, motor cycles parts and accessoiries',\n",
       "       'Retail trade services of motor fuel',\n",
       "       'Wholesale trade and commission trade services, except of motor vehicles and motorcycles (51)',\n",
       "       'Retail  trade services, except of motor vehicles and motorcycles; repair services of personal and household goods (52)',\n",
       "       'Hotel and restaurant services (55)',\n",
       "       'Railway transportation services',\n",
       "       'Other land transportation services',\n",
       "       'Transportation services via pipelines',\n",
       "       'Sea and coastal water transportation services',\n",
       "       'Inland water transportation services',\n",
       "       'Air transport services (62)',\n",
       "       'Supporting and auxiliary transport services; travel agency services (63)',\n",
       "       'Post and telecommunication services (64)',\n",
       "       'Financial intermediation services, except insurance and pension funding services (65)',\n",
       "       'Insurance and pension funding services, except compulsory social security services (66)',\n",
       "       'Services auxiliary to financial intermediation (67)',\n",
       "       'Real estate services (70)',\n",
       "       'Renting services of machinery and equipment without operator and of personal and household goods (71)',\n",
       "       'Computer and related services (72)',\n",
       "       'Research and development services (73)',\n",
       "       'Other business services (74)',\n",
       "       'Public administration and defence services; compulsory social security services (75)',\n",
       "       'Education services (80)', 'Health and social work services (85)',\n",
       "       'Food waste for treatment: incineration',\n",
       "       'Paper waste for treatment: incineration',\n",
       "       'Plastic waste for treatment: incineration',\n",
       "       'Intert/metal waste for treatment: incineration',\n",
       "       'Textiles waste for treatment: incineration',\n",
       "       'Wood waste for treatment: incineration',\n",
       "       'Oil/hazardous waste for treatment: incineration',\n",
       "       'Food waste for treatment: biogasification and land application',\n",
       "       'Paper waste for treatment: biogasification and land application',\n",
       "       'Sewage sludge for treatment: biogasification and land application',\n",
       "       'Food waste for treatment: composting and land application',\n",
       "       'Paper and wood waste for treatment: composting and land application',\n",
       "       'Food waste for treatment: waste water treatment',\n",
       "       'Other waste for treatment: waste water treatment',\n",
       "       'Food waste for treatment: landfill',\n",
       "       'Paper for treatment: landfill',\n",
       "       'Plastic waste for treatment: landfill',\n",
       "       'Inert/metal/hazardous waste for treatment: landfill',\n",
       "       'Textiles waste for treatment: landfill',\n",
       "       'Wood waste for treatment: landfill',\n",
       "       'Membership organisation services n.e.c. (91)',\n",
       "       'Recreational, cultural and sporting services (92)',\n",
       "       'Other services (93)',\n",
       "       'Private households with employed persons (95)',\n",
       "       'Extra-territorial organizations and bodies'], dtype=object)"
      ]
     },
     "execution_count": 9,
     "metadata": {},
     "output_type": "execute_result"
    }
   ],
   "source": [
<<<<<<< HEAD
    "sectors_labels = A_labels.sector.unique()\n",
=======
    "#Collect the sectors labels and get the u\n",
    "sectors_labels = None\n",
>>>>>>> 94e09d9575c9be15f0fb34c7cde5e3efab04f072
    "\n",
    "# Print your labels to analyse them (remember .to_frame)\n",
    "sectors_labels"
   ]
  },
  {
   "cell_type": "markdown",
   "metadata": {
    "slideshow": {
     "slide_type": "slide"
    }
   },
   "source": [
    "## Exercise 2: Calculate the rest of the IO variables (I, L, x)"
   ]
  },
  {
   "cell_type": "markdown",
   "metadata": {
    "slideshow": {
     "slide_type": "subslide"
    }
   },
   "source": [
    "#### 2.1 First we calculate the Leontief inverse"
   ]
  },
  {
   "cell_type": "code",
   "execution_count": 13,
   "metadata": {
    "slideshow": {
     "slide_type": "fragment"
    }
   },
   "outputs": [],
   "source": [
<<<<<<< HEAD
    "\n",
    "I = np.identity(A.shape[0]) # A.shape[0] is the total number of columns in the A matrix\n",
    "L = np.linalg.inv(I-A)"
=======
    "I = None # A.shape[0] is the total number of columns in the A matrix\n",
    "L = None"
>>>>>>> 94e09d9575c9be15f0fb34c7cde5e3efab04f072
   ]
  },
  {
   "cell_type": "markdown",
   "metadata": {
    "slideshow": {
     "slide_type": "subslide"
    }
   },
   "source": [
    "#### 2.2 We calculate our product output x"
   ]
  },
  {
   "cell_type": "code",
   "execution_count": 21,
   "metadata": {
    "slideshow": {
     "slide_type": "fragment"
    }
   },
   "outputs": [
    {
     "name": "stdout",
     "output_type": "stream",
     "text": [
      "(9800,)\n",
      "[    0.           359.79773658   864.54809943 ... 35533.35519031\n",
      "  6245.82863651     0.        ]\n"
     ]
    }
   ],
   "source": [
    "x = L@Y.sum(axis=1)\n",
    "\n",
    "# A check to see whether the resulting x is right\n",
    "print(x.shape)\n",
    "print(x)"
   ]
  },
  {
   "cell_type": "markdown",
   "metadata": {
    "slideshow": {
     "slide_type": "slide"
    }
   },
   "source": [
    "## Exercise 3: Create a matrix of extension intensities \n",
    "\n",
    "When working with real data, you will find cases in which the produt output vector x contains 0's \n",
    "\n",
    "If you try to invert the diagonalized product output, it will tell you that you cannot invert a Singular matrix.\n",
    "\n",
    "There are various reasons why a matrix may be singular but in our case it is due to the fact that not all values are non-zeros\n",
    "\n",
    "You may then be tempted to perform 1/x, however, this may results in several divisions by 0's and the resulting matrix will be filled with NaN values or inf values.\n",
    "\n",
    "One way to get around this: Divide 1 by the values that are non-0 as shown in the following example"
   ]
  },
  {
   "cell_type": "code",
   "execution_count": 59,
   "metadata": {
    "scrolled": true,
    "slideshow": {
     "slide_type": "subslide"
    }
   },
   "outputs": [
    {
     "data": {
      "text/html": [
       "<div>\n",
       "<style scoped>\n",
       "    .dataframe tbody tr th:only-of-type {\n",
       "        vertical-align: middle;\n",
       "    }\n",
       "\n",
       "    .dataframe tbody tr th {\n",
       "        vertical-align: top;\n",
       "    }\n",
       "\n",
       "    .dataframe thead tr th {\n",
       "        text-align: left;\n",
       "    }\n",
       "\n",
       "    .dataframe thead tr:last-of-type th {\n",
       "        text-align: right;\n",
       "    }\n",
       "</style>\n",
       "<table border=\"1\" class=\"dataframe\">\n",
       "  <thead>\n",
       "    <tr>\n",
       "      <th>region</th>\n",
       "      <th colspan=\"10\" halign=\"left\">AT</th>\n",
       "      <th>...</th>\n",
       "      <th colspan=\"10\" halign=\"left\">WM</th>\n",
       "    </tr>\n",
       "    <tr>\n",
       "      <th>sector</th>\n",
       "      <th>Paddy rice</th>\n",
       "      <th>Wheat</th>\n",
       "      <th>Cereal grains nec</th>\n",
       "      <th>Vegetables, fruit, nuts</th>\n",
       "      <th>Oil seeds</th>\n",
       "      <th>Sugar cane, sugar beet</th>\n",
       "      <th>Plant-based fibers</th>\n",
       "      <th>Crops nec</th>\n",
       "      <th>Cattle</th>\n",
       "      <th>Pigs</th>\n",
       "      <th>...</th>\n",
       "      <th>Paper for treatment: landfill</th>\n",
       "      <th>Plastic waste for treatment: landfill</th>\n",
       "      <th>Inert/metal/hazardous waste for treatment: landfill</th>\n",
       "      <th>Textiles waste for treatment: landfill</th>\n",
       "      <th>Wood waste for treatment: landfill</th>\n",
       "      <th>Membership organisation services n.e.c. (91)</th>\n",
       "      <th>Recreational, cultural and sporting services (92)</th>\n",
       "      <th>Other services (93)</th>\n",
       "      <th>Private households with employed persons (95)</th>\n",
       "      <th>Extra-territorial organizations and bodies</th>\n",
       "    </tr>\n",
       "    <tr>\n",
       "      <th>impact</th>\n",
       "      <th></th>\n",
       "      <th></th>\n",
       "      <th></th>\n",
       "      <th></th>\n",
       "      <th></th>\n",
       "      <th></th>\n",
       "      <th></th>\n",
       "      <th></th>\n",
       "      <th></th>\n",
       "      <th></th>\n",
       "      <th></th>\n",
       "      <th></th>\n",
       "      <th></th>\n",
       "      <th></th>\n",
       "      <th></th>\n",
       "      <th></th>\n",
       "      <th></th>\n",
       "      <th></th>\n",
       "      <th></th>\n",
       "      <th></th>\n",
       "      <th></th>\n",
       "    </tr>\n",
       "  </thead>\n",
       "  <tbody>\n",
       "    <tr>\n",
       "      <th>Value Added</th>\n",
       "      <td>0.0</td>\n",
       "      <td>6.758705e-01</td>\n",
       "      <td>0.742589</td>\n",
       "      <td>0.690073</td>\n",
       "      <td>8.318040e-01</td>\n",
       "      <td>5.240212e-01</td>\n",
       "      <td>0.931297</td>\n",
       "      <td>0.548421</td>\n",
       "      <td>3.762497e-03</td>\n",
       "      <td>0.471794</td>\n",
       "      <td>...</td>\n",
       "      <td>3.764269e-01</td>\n",
       "      <td>3.512124e-01</td>\n",
       "      <td>0.389520</td>\n",
       "      <td>3.828206e-01</td>\n",
       "      <td>3.538083e-01</td>\n",
       "      <td>0.479711</td>\n",
       "      <td>0.535663</td>\n",
       "      <td>0.550831</td>\n",
       "      <td>0.717995</td>\n",
       "      <td>0.0</td>\n",
       "    </tr>\n",
       "    <tr>\n",
       "      <th>Employment</th>\n",
       "      <td>0.0</td>\n",
       "      <td>2.162651e-02</td>\n",
       "      <td>0.016105</td>\n",
       "      <td>0.022381</td>\n",
       "      <td>2.495181e-02</td>\n",
       "      <td>2.528435e-02</td>\n",
       "      <td>0.000603</td>\n",
       "      <td>0.003960</td>\n",
       "      <td>3.848932e-02</td>\n",
       "      <td>0.024352</td>\n",
       "      <td>...</td>\n",
       "      <td>5.706826e-03</td>\n",
       "      <td>7.018623e-03</td>\n",
       "      <td>0.005744</td>\n",
       "      <td>8.103717e-03</td>\n",
       "      <td>7.628601e-03</td>\n",
       "      <td>0.007756</td>\n",
       "      <td>0.006710</td>\n",
       "      <td>0.005708</td>\n",
       "      <td>0.014335</td>\n",
       "      <td>0.0</td>\n",
       "    </tr>\n",
       "    <tr>\n",
       "      <th>Employment hour</th>\n",
       "      <td>0.0</td>\n",
       "      <td>4.759831e+04</td>\n",
       "      <td>36782.612201</td>\n",
       "      <td>50517.645427</td>\n",
       "      <td>5.897691e+04</td>\n",
       "      <td>6.203679e+04</td>\n",
       "      <td>1484.470666</td>\n",
       "      <td>8962.473079</td>\n",
       "      <td>9.796496e+04</td>\n",
       "      <td>59816.871185</td>\n",
       "      <td>...</td>\n",
       "      <td>1.532442e+04</td>\n",
       "      <td>1.884651e+04</td>\n",
       "      <td>15059.926003</td>\n",
       "      <td>2.116965e+04</td>\n",
       "      <td>1.957432e+04</td>\n",
       "      <td>21628.179545</td>\n",
       "      <td>18372.663175</td>\n",
       "      <td>15610.512899</td>\n",
       "      <td>40895.270100</td>\n",
       "      <td>0.0</td>\n",
       "    </tr>\n",
       "    <tr>\n",
       "      <th>GHG emissions (GWP100) | Problem oriented approach: baseline (CML, 2001) | GWP100 (IPCC, 2007)</th>\n",
       "      <td>0.0</td>\n",
       "      <td>1.690932e+06</td>\n",
       "      <td>935119.414396</td>\n",
       "      <td>181589.602023</td>\n",
       "      <td>1.301896e+06</td>\n",
       "      <td>1.649214e+06</td>\n",
       "      <td>347941.086195</td>\n",
       "      <td>957782.044611</td>\n",
       "      <td>4.970012e+06</td>\n",
       "      <td>465137.987386</td>\n",
       "      <td>...</td>\n",
       "      <td>2.023481e+07</td>\n",
       "      <td>1.390853e+06</td>\n",
       "      <td>172467.064319</td>\n",
       "      <td>8.445838e+06</td>\n",
       "      <td>1.851824e+06</td>\n",
       "      <td>24267.534015</td>\n",
       "      <td>57159.204690</td>\n",
       "      <td>147562.200164</td>\n",
       "      <td>10687.150229</td>\n",
       "      <td>0.0</td>\n",
       "    </tr>\n",
       "    <tr>\n",
       "      <th>Human toxicity (USEtox) | USEtox2008 | CTUh (Rosenbaum et al., 2008)</th>\n",
       "      <td>0.0</td>\n",
       "      <td>6.446307e-03</td>\n",
       "      <td>0.002427</td>\n",
       "      <td>0.000605</td>\n",
       "      <td>3.198484e-03</td>\n",
       "      <td>1.566391e-03</td>\n",
       "      <td>0.000049</td>\n",
       "      <td>0.000911</td>\n",
       "      <td>2.602296e-03</td>\n",
       "      <td>0.001573</td>\n",
       "      <td>...</td>\n",
       "      <td>8.941858e-02</td>\n",
       "      <td>9.517493e-02</td>\n",
       "      <td>0.141794</td>\n",
       "      <td>1.236203e-01</td>\n",
       "      <td>1.049235e-01</td>\n",
       "      <td>0.008565</td>\n",
       "      <td>0.008359</td>\n",
       "      <td>0.021177</td>\n",
       "      <td>0.000168</td>\n",
       "      <td>0.0</td>\n",
       "    </tr>\n",
       "    <tr>\n",
       "      <th>...</th>\n",
       "      <td>...</td>\n",
       "      <td>...</td>\n",
       "      <td>...</td>\n",
       "      <td>...</td>\n",
       "      <td>...</td>\n",
       "      <td>...</td>\n",
       "      <td>...</td>\n",
       "      <td>...</td>\n",
       "      <td>...</td>\n",
       "      <td>...</td>\n",
       "      <td>...</td>\n",
       "      <td>...</td>\n",
       "      <td>...</td>\n",
       "      <td>...</td>\n",
       "      <td>...</td>\n",
       "      <td>...</td>\n",
       "      <td>...</td>\n",
       "      <td>...</td>\n",
       "      <td>...</td>\n",
       "      <td>...</td>\n",
       "      <td>...</td>\n",
       "    </tr>\n",
       "    <tr>\n",
       "      <th>Unused Domestic Extraction - Oil and Gas</th>\n",
       "      <td>0.0</td>\n",
       "      <td>0.000000e+00</td>\n",
       "      <td>0.000000</td>\n",
       "      <td>0.000000</td>\n",
       "      <td>0.000000e+00</td>\n",
       "      <td>0.000000e+00</td>\n",
       "      <td>0.000000</td>\n",
       "      <td>0.000000</td>\n",
       "      <td>0.000000e+00</td>\n",
       "      <td>0.000000</td>\n",
       "      <td>...</td>\n",
       "      <td>0.000000e+00</td>\n",
       "      <td>0.000000e+00</td>\n",
       "      <td>0.000000</td>\n",
       "      <td>0.000000e+00</td>\n",
       "      <td>0.000000e+00</td>\n",
       "      <td>0.000000</td>\n",
       "      <td>0.000000</td>\n",
       "      <td>0.000000</td>\n",
       "      <td>0.000000</td>\n",
       "      <td>0.0</td>\n",
       "    </tr>\n",
       "    <tr>\n",
       "      <th>Unused Domestic Extraction - Non-metalic Minerals</th>\n",
       "      <td>0.0</td>\n",
       "      <td>0.000000e+00</td>\n",
       "      <td>0.000000</td>\n",
       "      <td>0.000000</td>\n",
       "      <td>0.000000e+00</td>\n",
       "      <td>0.000000e+00</td>\n",
       "      <td>0.000000</td>\n",
       "      <td>0.000000</td>\n",
       "      <td>0.000000e+00</td>\n",
       "      <td>0.000000</td>\n",
       "      <td>...</td>\n",
       "      <td>0.000000e+00</td>\n",
       "      <td>0.000000e+00</td>\n",
       "      <td>0.000000</td>\n",
       "      <td>0.000000e+00</td>\n",
       "      <td>0.000000e+00</td>\n",
       "      <td>0.000000</td>\n",
       "      <td>0.000000</td>\n",
       "      <td>0.000000</td>\n",
       "      <td>0.000000</td>\n",
       "      <td>0.0</td>\n",
       "    </tr>\n",
       "    <tr>\n",
       "      <th>Unused Domestic Extraction - Iron Ore</th>\n",
       "      <td>0.0</td>\n",
       "      <td>0.000000e+00</td>\n",
       "      <td>0.000000</td>\n",
       "      <td>0.000000</td>\n",
       "      <td>0.000000e+00</td>\n",
       "      <td>0.000000e+00</td>\n",
       "      <td>0.000000</td>\n",
       "      <td>0.000000</td>\n",
       "      <td>0.000000e+00</td>\n",
       "      <td>0.000000</td>\n",
       "      <td>...</td>\n",
       "      <td>0.000000e+00</td>\n",
       "      <td>0.000000e+00</td>\n",
       "      <td>0.000000</td>\n",
       "      <td>0.000000e+00</td>\n",
       "      <td>0.000000e+00</td>\n",
       "      <td>0.000000</td>\n",
       "      <td>0.000000</td>\n",
       "      <td>0.000000</td>\n",
       "      <td>0.000000</td>\n",
       "      <td>0.0</td>\n",
       "    </tr>\n",
       "    <tr>\n",
       "      <th>Unused Domestic Extraction - Non-ferous metal ores</th>\n",
       "      <td>0.0</td>\n",
       "      <td>0.000000e+00</td>\n",
       "      <td>0.000000</td>\n",
       "      <td>0.000000</td>\n",
       "      <td>0.000000e+00</td>\n",
       "      <td>0.000000e+00</td>\n",
       "      <td>0.000000</td>\n",
       "      <td>0.000000</td>\n",
       "      <td>0.000000e+00</td>\n",
       "      <td>0.000000</td>\n",
       "      <td>...</td>\n",
       "      <td>0.000000e+00</td>\n",
       "      <td>0.000000e+00</td>\n",
       "      <td>0.000000</td>\n",
       "      <td>0.000000e+00</td>\n",
       "      <td>0.000000e+00</td>\n",
       "      <td>0.000000</td>\n",
       "      <td>0.000000</td>\n",
       "      <td>0.000000</td>\n",
       "      <td>0.000000</td>\n",
       "      <td>0.0</td>\n",
       "    </tr>\n",
       "    <tr>\n",
       "      <th>Land use Crop, Forest, Pasture</th>\n",
       "      <td>0.0</td>\n",
       "      <td>7.079127e+00</td>\n",
       "      <td>4.918618</td>\n",
       "      <td>0.926486</td>\n",
       "      <td>9.350419e+00</td>\n",
       "      <td>3.322742e+00</td>\n",
       "      <td>1.669279</td>\n",
       "      <td>0.336450</td>\n",
       "      <td>1.905738e+01</td>\n",
       "      <td>0.120546</td>\n",
       "      <td>...</td>\n",
       "      <td>0.000000e+00</td>\n",
       "      <td>0.000000e+00</td>\n",
       "      <td>0.000000</td>\n",
       "      <td>0.000000e+00</td>\n",
       "      <td>0.000000e+00</td>\n",
       "      <td>0.000000</td>\n",
       "      <td>0.000000</td>\n",
       "      <td>0.000000</td>\n",
       "      <td>0.000000</td>\n",
       "      <td>0.0</td>\n",
       "    </tr>\n",
       "  </tbody>\n",
       "</table>\n",
       "<p>126 rows × 9800 columns</p>\n",
       "</div>"
      ],
      "text/plain": [
       "region                                                     AT                \\\n",
       "sector                                             Paddy rice         Wheat   \n",
       "impact                                                                        \n",
       "Value Added                                               0.0  6.758705e-01   \n",
       "Employment                                                0.0  2.162651e-02   \n",
       "Employment hour                                           0.0  4.759831e+04   \n",
       "GHG emissions (GWP100) | Problem oriented appro...        0.0  1.690932e+06   \n",
       "Human toxicity (USEtox) | USEtox2008 | CTUh (Ro...        0.0  6.446307e-03   \n",
       "...                                                       ...           ...   \n",
       "Unused Domestic Extraction - Oil and Gas                  0.0  0.000000e+00   \n",
       "Unused Domestic Extraction - Non-metalic Minerals         0.0  0.000000e+00   \n",
       "Unused Domestic Extraction - Iron Ore                     0.0  0.000000e+00   \n",
       "Unused Domestic Extraction - Non-ferous metal ores        0.0  0.000000e+00   \n",
       "Land use Crop, Forest, Pasture                            0.0  7.079127e+00   \n",
       "\n",
       "region                                                                \\\n",
       "sector                                             Cereal grains nec   \n",
       "impact                                                                 \n",
       "Value Added                                                 0.742589   \n",
       "Employment                                                  0.016105   \n",
       "Employment hour                                         36782.612201   \n",
       "GHG emissions (GWP100) | Problem oriented appro...     935119.414396   \n",
       "Human toxicity (USEtox) | USEtox2008 | CTUh (Ro...          0.002427   \n",
       "...                                                              ...   \n",
       "Unused Domestic Extraction - Oil and Gas                    0.000000   \n",
       "Unused Domestic Extraction - Non-metalic Minerals           0.000000   \n",
       "Unused Domestic Extraction - Iron Ore                       0.000000   \n",
       "Unused Domestic Extraction - Non-ferous metal ores          0.000000   \n",
       "Land use Crop, Forest, Pasture                              4.918618   \n",
       "\n",
       "region                                                                      \\\n",
       "sector                                             Vegetables, fruit, nuts   \n",
       "impact                                                                       \n",
       "Value Added                                                       0.690073   \n",
       "Employment                                                        0.022381   \n",
       "Employment hour                                               50517.645427   \n",
       "GHG emissions (GWP100) | Problem oriented appro...           181589.602023   \n",
       "Human toxicity (USEtox) | USEtox2008 | CTUh (Ro...                0.000605   \n",
       "...                                                                    ...   \n",
       "Unused Domestic Extraction - Oil and Gas                          0.000000   \n",
       "Unused Domestic Extraction - Non-metalic Minerals                 0.000000   \n",
       "Unused Domestic Extraction - Iron Ore                             0.000000   \n",
       "Unused Domestic Extraction - Non-ferous metal ores                0.000000   \n",
       "Land use Crop, Forest, Pasture                                    0.926486   \n",
       "\n",
       "region                                                            \\\n",
       "sector                                                 Oil seeds   \n",
       "impact                                                             \n",
       "Value Added                                         8.318040e-01   \n",
       "Employment                                          2.495181e-02   \n",
       "Employment hour                                     5.897691e+04   \n",
       "GHG emissions (GWP100) | Problem oriented appro...  1.301896e+06   \n",
       "Human toxicity (USEtox) | USEtox2008 | CTUh (Ro...  3.198484e-03   \n",
       "...                                                          ...   \n",
       "Unused Domestic Extraction - Oil and Gas            0.000000e+00   \n",
       "Unused Domestic Extraction - Non-metalic Minerals   0.000000e+00   \n",
       "Unused Domestic Extraction - Iron Ore               0.000000e+00   \n",
       "Unused Domestic Extraction - Non-ferous metal ores  0.000000e+00   \n",
       "Land use Crop, Forest, Pasture                      9.350419e+00   \n",
       "\n",
       "region                                                                     \\\n",
       "sector                                             Sugar cane, sugar beet   \n",
       "impact                                                                      \n",
       "Value Added                                                  5.240212e-01   \n",
       "Employment                                                   2.528435e-02   \n",
       "Employment hour                                              6.203679e+04   \n",
       "GHG emissions (GWP100) | Problem oriented appro...           1.649214e+06   \n",
       "Human toxicity (USEtox) | USEtox2008 | CTUh (Ro...           1.566391e-03   \n",
       "...                                                                   ...   \n",
       "Unused Domestic Extraction - Oil and Gas                     0.000000e+00   \n",
       "Unused Domestic Extraction - Non-metalic Minerals            0.000000e+00   \n",
       "Unused Domestic Extraction - Iron Ore                        0.000000e+00   \n",
       "Unused Domestic Extraction - Non-ferous metal ores           0.000000e+00   \n",
       "Land use Crop, Forest, Pasture                               3.322742e+00   \n",
       "\n",
       "region                                                                 \\\n",
       "sector                                             Plant-based fibers   \n",
       "impact                                                                  \n",
       "Value Added                                                  0.931297   \n",
       "Employment                                                   0.000603   \n",
       "Employment hour                                           1484.470666   \n",
       "GHG emissions (GWP100) | Problem oriented appro...      347941.086195   \n",
       "Human toxicity (USEtox) | USEtox2008 | CTUh (Ro...           0.000049   \n",
       "...                                                               ...   \n",
       "Unused Domestic Extraction - Oil and Gas                     0.000000   \n",
       "Unused Domestic Extraction - Non-metalic Minerals            0.000000   \n",
       "Unused Domestic Extraction - Iron Ore                        0.000000   \n",
       "Unused Domestic Extraction - Non-ferous metal ores           0.000000   \n",
       "Land use Crop, Forest, Pasture                               1.669279   \n",
       "\n",
       "region                                                             \\\n",
       "sector                                                  Crops nec   \n",
       "impact                                                              \n",
       "Value Added                                              0.548421   \n",
       "Employment                                               0.003960   \n",
       "Employment hour                                       8962.473079   \n",
       "GHG emissions (GWP100) | Problem oriented appro...  957782.044611   \n",
       "Human toxicity (USEtox) | USEtox2008 | CTUh (Ro...       0.000911   \n",
       "...                                                           ...   \n",
       "Unused Domestic Extraction - Oil and Gas                 0.000000   \n",
       "Unused Domestic Extraction - Non-metalic Minerals        0.000000   \n",
       "Unused Domestic Extraction - Iron Ore                    0.000000   \n",
       "Unused Domestic Extraction - Non-ferous metal ores       0.000000   \n",
       "Land use Crop, Forest, Pasture                           0.336450   \n",
       "\n",
       "region                                                            \\\n",
       "sector                                                    Cattle   \n",
       "impact                                                             \n",
       "Value Added                                         3.762497e-03   \n",
       "Employment                                          3.848932e-02   \n",
       "Employment hour                                     9.796496e+04   \n",
       "GHG emissions (GWP100) | Problem oriented appro...  4.970012e+06   \n",
       "Human toxicity (USEtox) | USEtox2008 | CTUh (Ro...  2.602296e-03   \n",
       "...                                                          ...   \n",
       "Unused Domestic Extraction - Oil and Gas            0.000000e+00   \n",
       "Unused Domestic Extraction - Non-metalic Minerals   0.000000e+00   \n",
       "Unused Domestic Extraction - Iron Ore               0.000000e+00   \n",
       "Unused Domestic Extraction - Non-ferous metal ores  0.000000e+00   \n",
       "Land use Crop, Forest, Pasture                      1.905738e+01   \n",
       "\n",
       "region                                                             ...  \\\n",
       "sector                                                       Pigs  ...   \n",
       "impact                                                             ...   \n",
       "Value Added                                              0.471794  ...   \n",
       "Employment                                               0.024352  ...   \n",
       "Employment hour                                      59816.871185  ...   \n",
       "GHG emissions (GWP100) | Problem oriented appro...  465137.987386  ...   \n",
       "Human toxicity (USEtox) | USEtox2008 | CTUh (Ro...       0.001573  ...   \n",
       "...                                                           ...  ...   \n",
       "Unused Domestic Extraction - Oil and Gas                 0.000000  ...   \n",
       "Unused Domestic Extraction - Non-metalic Minerals        0.000000  ...   \n",
       "Unused Domestic Extraction - Iron Ore                    0.000000  ...   \n",
       "Unused Domestic Extraction - Non-ferous metal ores       0.000000  ...   \n",
       "Land use Crop, Forest, Pasture                           0.120546  ...   \n",
       "\n",
       "region                                                                        WM  \\\n",
       "sector                                             Paper for treatment: landfill   \n",
       "impact                                                                             \n",
       "Value Added                                                         3.764269e-01   \n",
       "Employment                                                          5.706826e-03   \n",
       "Employment hour                                                     1.532442e+04   \n",
       "GHG emissions (GWP100) | Problem oriented appro...                  2.023481e+07   \n",
       "Human toxicity (USEtox) | USEtox2008 | CTUh (Ro...                  8.941858e-02   \n",
       "...                                                                          ...   \n",
       "Unused Domestic Extraction - Oil and Gas                            0.000000e+00   \n",
       "Unused Domestic Extraction - Non-metalic Minerals                   0.000000e+00   \n",
       "Unused Domestic Extraction - Iron Ore                               0.000000e+00   \n",
       "Unused Domestic Extraction - Non-ferous metal ores                  0.000000e+00   \n",
       "Land use Crop, Forest, Pasture                                      0.000000e+00   \n",
       "\n",
       "region                                                                                    \\\n",
       "sector                                             Plastic waste for treatment: landfill   \n",
       "impact                                                                                     \n",
       "Value Added                                                                 3.512124e-01   \n",
       "Employment                                                                  7.018623e-03   \n",
       "Employment hour                                                             1.884651e+04   \n",
       "GHG emissions (GWP100) | Problem oriented appro...                          1.390853e+06   \n",
       "Human toxicity (USEtox) | USEtox2008 | CTUh (Ro...                          9.517493e-02   \n",
       "...                                                                                  ...   \n",
       "Unused Domestic Extraction - Oil and Gas                                    0.000000e+00   \n",
       "Unused Domestic Extraction - Non-metalic Minerals                           0.000000e+00   \n",
       "Unused Domestic Extraction - Iron Ore                                       0.000000e+00   \n",
       "Unused Domestic Extraction - Non-ferous metal ores                          0.000000e+00   \n",
       "Land use Crop, Forest, Pasture                                              0.000000e+00   \n",
       "\n",
       "region                                                                                                  \\\n",
       "sector                                             Inert/metal/hazardous waste for treatment: landfill   \n",
       "impact                                                                                                   \n",
       "Value Added                                                                                  0.389520    \n",
       "Employment                                                                                   0.005744    \n",
       "Employment hour                                                                          15059.926003    \n",
       "GHG emissions (GWP100) | Problem oriented appro...                                      172467.064319    \n",
       "Human toxicity (USEtox) | USEtox2008 | CTUh (Ro...                                           0.141794    \n",
       "...                                                                                               ...    \n",
       "Unused Domestic Extraction - Oil and Gas                                                     0.000000    \n",
       "Unused Domestic Extraction - Non-metalic Minerals                                            0.000000    \n",
       "Unused Domestic Extraction - Iron Ore                                                        0.000000    \n",
       "Unused Domestic Extraction - Non-ferous metal ores                                           0.000000    \n",
       "Land use Crop, Forest, Pasture                                                               0.000000    \n",
       "\n",
       "region                                                                                     \\\n",
       "sector                                             Textiles waste for treatment: landfill   \n",
       "impact                                                                                      \n",
       "Value Added                                                                  3.828206e-01   \n",
       "Employment                                                                   8.103717e-03   \n",
       "Employment hour                                                              2.116965e+04   \n",
       "GHG emissions (GWP100) | Problem oriented appro...                           8.445838e+06   \n",
       "Human toxicity (USEtox) | USEtox2008 | CTUh (Ro...                           1.236203e-01   \n",
       "...                                                                                   ...   \n",
       "Unused Domestic Extraction - Oil and Gas                                     0.000000e+00   \n",
       "Unused Domestic Extraction - Non-metalic Minerals                            0.000000e+00   \n",
       "Unused Domestic Extraction - Iron Ore                                        0.000000e+00   \n",
       "Unused Domestic Extraction - Non-ferous metal ores                           0.000000e+00   \n",
       "Land use Crop, Forest, Pasture                                               0.000000e+00   \n",
       "\n",
       "region                                                                                 \\\n",
       "sector                                             Wood waste for treatment: landfill   \n",
       "impact                                                                                  \n",
       "Value Added                                                              3.538083e-01   \n",
       "Employment                                                               7.628601e-03   \n",
       "Employment hour                                                          1.957432e+04   \n",
       "GHG emissions (GWP100) | Problem oriented appro...                       1.851824e+06   \n",
       "Human toxicity (USEtox) | USEtox2008 | CTUh (Ro...                       1.049235e-01   \n",
       "...                                                                               ...   \n",
       "Unused Domestic Extraction - Oil and Gas                                 0.000000e+00   \n",
       "Unused Domestic Extraction - Non-metalic Minerals                        0.000000e+00   \n",
       "Unused Domestic Extraction - Iron Ore                                    0.000000e+00   \n",
       "Unused Domestic Extraction - Non-ferous metal ores                       0.000000e+00   \n",
       "Land use Crop, Forest, Pasture                                           0.000000e+00   \n",
       "\n",
       "region                                                                                           \\\n",
       "sector                                             Membership organisation services n.e.c. (91)   \n",
       "impact                                                                                            \n",
       "Value Added                                                                            0.479711   \n",
       "Employment                                                                             0.007756   \n",
       "Employment hour                                                                    21628.179545   \n",
       "GHG emissions (GWP100) | Problem oriented appro...                                 24267.534015   \n",
       "Human toxicity (USEtox) | USEtox2008 | CTUh (Ro...                                     0.008565   \n",
       "...                                                                                         ...   \n",
       "Unused Domestic Extraction - Oil and Gas                                               0.000000   \n",
       "Unused Domestic Extraction - Non-metalic Minerals                                      0.000000   \n",
       "Unused Domestic Extraction - Iron Ore                                                  0.000000   \n",
       "Unused Domestic Extraction - Non-ferous metal ores                                     0.000000   \n",
       "Land use Crop, Forest, Pasture                                                         0.000000   \n",
       "\n",
       "region                                                                                                \\\n",
       "sector                                             Recreational, cultural and sporting services (92)   \n",
       "impact                                                                                                 \n",
       "Value Added                                                                                 0.535663   \n",
       "Employment                                                                                  0.006710   \n",
       "Employment hour                                                                         18372.663175   \n",
       "GHG emissions (GWP100) | Problem oriented appro...                                      57159.204690   \n",
       "Human toxicity (USEtox) | USEtox2008 | CTUh (Ro...                                          0.008359   \n",
       "...                                                                                              ...   \n",
       "Unused Domestic Extraction - Oil and Gas                                                    0.000000   \n",
       "Unused Domestic Extraction - Non-metalic Minerals                                           0.000000   \n",
       "Unused Domestic Extraction - Iron Ore                                                       0.000000   \n",
       "Unused Domestic Extraction - Non-ferous metal ores                                          0.000000   \n",
       "Land use Crop, Forest, Pasture                                                              0.000000   \n",
       "\n",
       "region                                                                  \\\n",
       "sector                                             Other services (93)   \n",
       "impact                                                                   \n",
       "Value Added                                                   0.550831   \n",
       "Employment                                                    0.005708   \n",
       "Employment hour                                           15610.512899   \n",
       "GHG emissions (GWP100) | Problem oriented appro...       147562.200164   \n",
       "Human toxicity (USEtox) | USEtox2008 | CTUh (Ro...            0.021177   \n",
       "...                                                                ...   \n",
       "Unused Domestic Extraction - Oil and Gas                      0.000000   \n",
       "Unused Domestic Extraction - Non-metalic Minerals             0.000000   \n",
       "Unused Domestic Extraction - Iron Ore                         0.000000   \n",
       "Unused Domestic Extraction - Non-ferous metal ores            0.000000   \n",
       "Land use Crop, Forest, Pasture                                0.000000   \n",
       "\n",
       "region                                                                                            \\\n",
       "sector                                             Private households with employed persons (95)   \n",
       "impact                                                                                             \n",
       "Value Added                                                                             0.717995   \n",
       "Employment                                                                              0.014335   \n",
       "Employment hour                                                                     40895.270100   \n",
       "GHG emissions (GWP100) | Problem oriented appro...                                  10687.150229   \n",
       "Human toxicity (USEtox) | USEtox2008 | CTUh (Ro...                                      0.000168   \n",
       "...                                                                                          ...   \n",
       "Unused Domestic Extraction - Oil and Gas                                                0.000000   \n",
       "Unused Domestic Extraction - Non-metalic Minerals                                       0.000000   \n",
       "Unused Domestic Extraction - Iron Ore                                                   0.000000   \n",
       "Unused Domestic Extraction - Non-ferous metal ores                                      0.000000   \n",
       "Land use Crop, Forest, Pasture                                                          0.000000   \n",
       "\n",
       "region                                                                                         \n",
       "sector                                             Extra-territorial organizations and bodies  \n",
       "impact                                                                                         \n",
       "Value Added                                                                               0.0  \n",
       "Employment                                                                                0.0  \n",
       "Employment hour                                                                           0.0  \n",
       "GHG emissions (GWP100) | Problem oriented appro...                                        0.0  \n",
       "Human toxicity (USEtox) | USEtox2008 | CTUh (Ro...                                        0.0  \n",
       "...                                                                                       ...  \n",
       "Unused Domestic Extraction - Oil and Gas                                                  0.0  \n",
       "Unused Domestic Extraction - Non-metalic Minerals                                         0.0  \n",
       "Unused Domestic Extraction - Iron Ore                                                     0.0  \n",
       "Unused Domestic Extraction - Non-ferous metal ores                                        0.0  \n",
       "Land use Crop, Forest, Pasture                                                            0.0  \n",
       "\n",
       "[126 rows x 9800 columns]"
      ]
     },
     "execution_count": 59,
     "metadata": {},
     "output_type": "execute_result"
    }
   ],
   "source": [
<<<<<<< HEAD
    "# we make a copy of our product output vector\n",
    "x_ = x\n",
    "\n",
    "# we divide 1 by the values that are non-0\n",
    "x_[x_!=0] = 1/x_[x_!=0]\n",
    "\n",
    "# We diagolize the resulting vector\n",
    "inv_diag_x = np.diag(x_) \n",
    "\n",
=======
    "# we make a copy of our product output vector which we will call x_inv\n",
    "x_inv = None\n",
    "\n",
    "# we divide 1 by the values that are non-0\n",
    "x_inv[x_inv!=0] = 1/x_inv[x_inv!=0]"
   ]
  },
  {
   "cell_type": "markdown",
   "metadata": {
    "slideshow": {
     "slide_type": "subslide"
    }
   },
   "source": [
    "We calculate our intensities (i.e., extension coefficients)"
   ]
  },
  {
   "cell_type": "code",
   "execution_count": null,
   "metadata": {
    "slideshow": {
     "slide_type": "fragment"
    }
   },
   "outputs": [],
   "source": [
>>>>>>> 94e09d9575c9be15f0fb34c7cde5e3efab04f072
    "# We are essentially dividing the total extension by the product output\n",
    "# This gives us coefficients of extension by unit of output (e.g., kg/euro)\n",
    "f = F@inv_diag_x\n",
    "\n",
    "f.columns=A.index\n",
    "f"
   ]
  },
  {
   "cell_type": "markdown",
   "metadata": {
    "slideshow": {
     "slide_type": "fragment"
    }
   },
   "source": [
    "N.b. inverting a matrix is a more complex operation than just dividing 1 by the values in your matrix. \n",
    "\n",
    "However, in the case of a diagonalized vector with non-zero values along the diagonal 1/diag(x) and inv(diag(x)) output the same results. \n",
    "\n",
    "If you have zero's in x vector to be diagonalized then you will not be able to perform the inversion.    "
   ]
  },
  {
   "cell_type": "markdown",
   "metadata": {
    "slideshow": {
     "slide_type": "slide"
    }
   },
   "source": [
    "## Exercise 4: Total footprint of the Netherlands\n",
    "\n",
    "\n",
    "- *What is the total carbon footprint of the Netherlands?*\n",
    "\n",
    "\n",
    "$\\text{F} = \\text{f} \\mathbf{L}\\text{Y} + \\text{F}_{hh}$"
   ]
  },
  {
   "cell_type": "markdown",
   "metadata": {
    "slideshow": {
     "slide_type": "slide"
    }
   },
   "source": [
    "#### 4.1 We first create a (modified) final demand matrix"
   ]
  },
  {
   "cell_type": "markdown",
   "metadata": {
    "slideshow": {
     "slide_type": "subslide"
    }
   },
   "source": [
    "4.1.1 Lets identify the range of the Y columns concerning the Netherlands"
   ]
  },
  {
   "cell_type": "code",
   "execution_count": null,
   "metadata": {
    "slideshow": {
     "slide_type": "fragment"
    }
   },
   "outputs": [],
   "source": [
    "# we know NL is the 20th country (python counting starting from 0) in the list of countries \n",
    "# and that we have 7 final demand categories, therefore\n",
    "\n",
    "start_NL = None\n",
    "end_NL = None"
   ]
  },
  {
   "cell_type": "markdown",
   "metadata": {
    "slideshow": {
     "slide_type": "subslide"
    }
   },
   "source": [
    "4.1.2 We calculate the modified Y"
   ]
  },
  {
   "cell_type": "markdown",
   "metadata": {
    "slideshow": {
     "slide_type": "subslide"
    }
   },
   "source": [
    "You can slice your Y by using pandas iloc method \n",
    "\n",
    "> Y.iloc[:,start_NL:end_NL]"
   ]
  },
  {
   "cell_type": "code",
   "execution_count": 38,
   "metadata": {
    "slideshow": {
     "slide_type": "fragment"
    }
   },
   "outputs": [
    {
     "data": {
      "text/html": [
       "<div>\n",
       "<style scoped>\n",
       "    .dataframe tbody tr th:only-of-type {\n",
       "        vertical-align: middle;\n",
       "    }\n",
       "\n",
       "    .dataframe tbody tr th {\n",
       "        vertical-align: top;\n",
       "    }\n",
       "\n",
       "    .dataframe thead tr th {\n",
       "        text-align: left;\n",
       "    }\n",
       "\n",
       "    .dataframe thead tr:last-of-type th {\n",
       "        text-align: right;\n",
       "    }\n",
       "</style>\n",
       "<table border=\"1\" class=\"dataframe\">\n",
       "  <thead>\n",
       "    <tr>\n",
       "      <th></th>\n",
       "      <th>region</th>\n",
       "      <th colspan=\"7\" halign=\"left\">NL</th>\n",
       "    </tr>\n",
       "    <tr>\n",
       "      <th></th>\n",
       "      <th>category</th>\n",
       "      <th>Final consumption expenditure by households</th>\n",
       "      <th>Final consumption expenditure by non-profit organisations serving households (NPISH)</th>\n",
       "      <th>Final consumption expenditure by government</th>\n",
       "      <th>Gross fixed capital formation</th>\n",
       "      <th>Changes in inventories</th>\n",
       "      <th>Changes in valuables</th>\n",
       "      <th>Exports: Total (fob)</th>\n",
       "    </tr>\n",
       "    <tr>\n",
       "      <th>region</th>\n",
       "      <th>sector</th>\n",
       "      <th></th>\n",
       "      <th></th>\n",
       "      <th></th>\n",
       "      <th></th>\n",
       "      <th></th>\n",
       "      <th></th>\n",
       "      <th></th>\n",
       "    </tr>\n",
       "  </thead>\n",
       "  <tbody>\n",
       "    <tr>\n",
       "      <th rowspan=\"5\" valign=\"top\">AT</th>\n",
       "      <th>Paddy rice</th>\n",
       "      <td>0.000000e+00</td>\n",
       "      <td>0.000000</td>\n",
       "      <td>0.000000</td>\n",
       "      <td>0.0</td>\n",
       "      <td>0.000000e+00</td>\n",
       "      <td>0</td>\n",
       "      <td>0</td>\n",
       "    </tr>\n",
       "    <tr>\n",
       "      <th>Wheat</th>\n",
       "      <td>8.109941e-01</td>\n",
       "      <td>0.000000</td>\n",
       "      <td>0.000000</td>\n",
       "      <td>0.0</td>\n",
       "      <td>6.153646e-03</td>\n",
       "      <td>0</td>\n",
       "      <td>0</td>\n",
       "    </tr>\n",
       "    <tr>\n",
       "      <th>Cereal grains nec</th>\n",
       "      <td>7.538257e-01</td>\n",
       "      <td>0.000000</td>\n",
       "      <td>0.000000</td>\n",
       "      <td>0.0</td>\n",
       "      <td>2.300348e-03</td>\n",
       "      <td>0</td>\n",
       "      <td>0</td>\n",
       "    </tr>\n",
       "    <tr>\n",
       "      <th>Vegetables, fruit, nuts</th>\n",
       "      <td>3.635396e+00</td>\n",
       "      <td>0.000000</td>\n",
       "      <td>0.000000</td>\n",
       "      <td>0.0</td>\n",
       "      <td>0.000000e+00</td>\n",
       "      <td>0</td>\n",
       "      <td>0</td>\n",
       "    </tr>\n",
       "    <tr>\n",
       "      <th>Oil seeds</th>\n",
       "      <td>3.967363e-09</td>\n",
       "      <td>0.000000</td>\n",
       "      <td>0.000000</td>\n",
       "      <td>0.0</td>\n",
       "      <td>2.376648e-10</td>\n",
       "      <td>0</td>\n",
       "      <td>0</td>\n",
       "    </tr>\n",
       "    <tr>\n",
       "      <th>...</th>\n",
       "      <th>...</th>\n",
       "      <td>...</td>\n",
       "      <td>...</td>\n",
       "      <td>...</td>\n",
       "      <td>...</td>\n",
       "      <td>...</td>\n",
       "      <td>...</td>\n",
       "      <td>...</td>\n",
       "    </tr>\n",
       "    <tr>\n",
       "      <th rowspan=\"5\" valign=\"top\">WM</th>\n",
       "      <th>Membership organisation services n.e.c. (91)</th>\n",
       "      <td>1.313962e-03</td>\n",
       "      <td>0.252829</td>\n",
       "      <td>0.001086</td>\n",
       "      <td>0.0</td>\n",
       "      <td>0.000000e+00</td>\n",
       "      <td>0</td>\n",
       "      <td>0</td>\n",
       "    </tr>\n",
       "    <tr>\n",
       "      <th>Recreational, cultural and sporting services (92)</th>\n",
       "      <td>0.000000e+00</td>\n",
       "      <td>0.747362</td>\n",
       "      <td>0.000000</td>\n",
       "      <td>0.0</td>\n",
       "      <td>4.507680e-03</td>\n",
       "      <td>0</td>\n",
       "      <td>0</td>\n",
       "    </tr>\n",
       "    <tr>\n",
       "      <th>Other services (93)</th>\n",
       "      <td>1.449982e+00</td>\n",
       "      <td>0.000000</td>\n",
       "      <td>0.000000</td>\n",
       "      <td>0.0</td>\n",
       "      <td>0.000000e+00</td>\n",
       "      <td>0</td>\n",
       "      <td>0</td>\n",
       "    </tr>\n",
       "    <tr>\n",
       "      <th>Private households with employed persons (95)</th>\n",
       "      <td>0.000000e+00</td>\n",
       "      <td>0.000000</td>\n",
       "      <td>0.000000</td>\n",
       "      <td>0.0</td>\n",
       "      <td>0.000000e+00</td>\n",
       "      <td>0</td>\n",
       "      <td>0</td>\n",
       "    </tr>\n",
       "    <tr>\n",
       "      <th>Extra-territorial organizations and bodies</th>\n",
       "      <td>0.000000e+00</td>\n",
       "      <td>0.000000</td>\n",
       "      <td>0.000000</td>\n",
       "      <td>0.0</td>\n",
       "      <td>0.000000e+00</td>\n",
       "      <td>0</td>\n",
       "      <td>0</td>\n",
       "    </tr>\n",
       "  </tbody>\n",
       "</table>\n",
       "<p>9800 rows × 7 columns</p>\n",
       "</div>"
      ],
      "text/plain": [
       "region                                                                                            NL  \\\n",
       "category                                                 Final consumption expenditure by households   \n",
       "region sector                                                                                          \n",
       "AT     Paddy rice                                                                       0.000000e+00   \n",
       "       Wheat                                                                            8.109941e-01   \n",
       "       Cereal grains nec                                                                7.538257e-01   \n",
       "       Vegetables, fruit, nuts                                                          3.635396e+00   \n",
       "       Oil seeds                                                                        3.967363e-09   \n",
       "...                                                                                              ...   \n",
       "WM     Membership organisation services n.e.c. (91)                                     1.313962e-03   \n",
       "       Recreational, cultural and sporting services (92)                                0.000000e+00   \n",
       "       Other services (93)                                                              1.449982e+00   \n",
       "       Private households with employed persons (95)                                    0.000000e+00   \n",
       "       Extra-territorial organizations and bodies                                       0.000000e+00   \n",
       "\n",
       "region                                                                                                                                         \\\n",
       "category                                                 Final consumption expenditure by non-profit organisations serving households (NPISH)   \n",
       "region sector                                                                                                                                   \n",
       "AT     Paddy rice                                                                                  0.000000                                     \n",
       "       Wheat                                                                                       0.000000                                     \n",
       "       Cereal grains nec                                                                           0.000000                                     \n",
       "       Vegetables, fruit, nuts                                                                     0.000000                                     \n",
       "       Oil seeds                                                                                   0.000000                                     \n",
       "...                                                                                                     ...                                     \n",
       "WM     Membership organisation services n.e.c. (91)                                                0.252829                                     \n",
       "       Recreational, cultural and sporting services (92)                                           0.747362                                     \n",
       "       Other services (93)                                                                         0.000000                                     \n",
       "       Private households with employed persons (95)                                               0.000000                                     \n",
       "       Extra-territorial organizations and bodies                                                  0.000000                                     \n",
       "\n",
       "region                                                                                                \\\n",
       "category                                                 Final consumption expenditure by government   \n",
       "region sector                                                                                          \n",
       "AT     Paddy rice                                                                           0.000000   \n",
       "       Wheat                                                                                0.000000   \n",
       "       Cereal grains nec                                                                    0.000000   \n",
       "       Vegetables, fruit, nuts                                                              0.000000   \n",
       "       Oil seeds                                                                            0.000000   \n",
       "...                                                                                              ...   \n",
       "WM     Membership organisation services n.e.c. (91)                                         0.001086   \n",
       "       Recreational, cultural and sporting services (92)                                    0.000000   \n",
       "       Other services (93)                                                                  0.000000   \n",
       "       Private households with employed persons (95)                                        0.000000   \n",
       "       Extra-territorial organizations and bodies                                           0.000000   \n",
       "\n",
       "region                                                                                  \\\n",
       "category                                                 Gross fixed capital formation   \n",
       "region sector                                                                            \n",
       "AT     Paddy rice                                                                  0.0   \n",
       "       Wheat                                                                       0.0   \n",
       "       Cereal grains nec                                                           0.0   \n",
       "       Vegetables, fruit, nuts                                                     0.0   \n",
       "       Oil seeds                                                                   0.0   \n",
       "...                                                                                ...   \n",
       "WM     Membership organisation services n.e.c. (91)                                0.0   \n",
       "       Recreational, cultural and sporting services (92)                           0.0   \n",
       "       Other services (93)                                                         0.0   \n",
       "       Private households with employed persons (95)                               0.0   \n",
       "       Extra-territorial organizations and bodies                                  0.0   \n",
       "\n",
       "region                                                                           \\\n",
       "category                                                 Changes in inventories   \n",
       "region sector                                                                     \n",
       "AT     Paddy rice                                                  0.000000e+00   \n",
       "       Wheat                                                       6.153646e-03   \n",
       "       Cereal grains nec                                           2.300348e-03   \n",
       "       Vegetables, fruit, nuts                                     0.000000e+00   \n",
       "       Oil seeds                                                   2.376648e-10   \n",
       "...                                                                         ...   \n",
       "WM     Membership organisation services n.e.c. (91)                0.000000e+00   \n",
       "       Recreational, cultural and sporting services (92)           4.507680e-03   \n",
       "       Other services (93)                                         0.000000e+00   \n",
       "       Private households with employed persons (95)               0.000000e+00   \n",
       "       Extra-territorial organizations and bodies                  0.000000e+00   \n",
       "\n",
       "region                                                                         \\\n",
       "category                                                 Changes in valuables   \n",
       "region sector                                                                   \n",
       "AT     Paddy rice                                                           0   \n",
       "       Wheat                                                                0   \n",
       "       Cereal grains nec                                                    0   \n",
       "       Vegetables, fruit, nuts                                              0   \n",
       "       Oil seeds                                                            0   \n",
       "...                                                                       ...   \n",
       "WM     Membership organisation services n.e.c. (91)                         0   \n",
       "       Recreational, cultural and sporting services (92)                    0   \n",
       "       Other services (93)                                                  0   \n",
       "       Private households with employed persons (95)                        0   \n",
       "       Extra-territorial organizations and bodies                           0   \n",
       "\n",
       "region                                                                         \n",
       "category                                                 Exports: Total (fob)  \n",
       "region sector                                                                  \n",
       "AT     Paddy rice                                                           0  \n",
       "       Wheat                                                                0  \n",
       "       Cereal grains nec                                                    0  \n",
       "       Vegetables, fruit, nuts                                              0  \n",
       "       Oil seeds                                                            0  \n",
       "...                                                                       ...  \n",
       "WM     Membership organisation services n.e.c. (91)                         0  \n",
       "       Recreational, cultural and sporting services (92)                    0  \n",
       "       Other services (93)                                                  0  \n",
       "       Private households with employed persons (95)                        0  \n",
       "       Extra-territorial organizations and bodies                           0  \n",
       "\n",
       "[9800 rows x 7 columns]"
      ]
     },
     "execution_count": 38,
     "metadata": {},
     "output_type": "execute_result"
    }
   ],
   "source": [
<<<<<<< HEAD
    "#Y.iloc[: , start_NL:end_NL]\n",
    "Y.loc[:,idx[\"NL\",:]]"
=======
    "Y_mod = None\n",
    "Y_mod"
>>>>>>> 94e09d9575c9be15f0fb34c7cde5e3efab04f072
   ]
  },
  {
   "cell_type": "markdown",
   "metadata": {
    "slideshow": {
     "slide_type": "subslide"
    }
   },
   "source": [
    "Or by using the labels through pandas loc method\n",
    "\n",
    "> Y.loc[:, \"NL\"]"
   ]
  },
  {
   "cell_type": "code",
   "execution_count": 39,
   "metadata": {
    "slideshow": {
     "slide_type": "fragment"
    }
   },
   "outputs": [
    {
     "data": {
      "text/html": [
       "<div>\n",
       "<style scoped>\n",
       "    .dataframe tbody tr th:only-of-type {\n",
       "        vertical-align: middle;\n",
       "    }\n",
       "\n",
       "    .dataframe tbody tr th {\n",
       "        vertical-align: top;\n",
       "    }\n",
       "\n",
       "    .dataframe thead tr th {\n",
       "        text-align: left;\n",
       "    }\n",
       "\n",
       "    .dataframe thead tr:last-of-type th {\n",
       "        text-align: right;\n",
       "    }\n",
       "</style>\n",
       "<table border=\"1\" class=\"dataframe\">\n",
       "  <thead>\n",
       "    <tr>\n",
       "      <th></th>\n",
       "      <th>region</th>\n",
       "      <th colspan=\"7\" halign=\"left\">NL</th>\n",
       "    </tr>\n",
       "    <tr>\n",
       "      <th></th>\n",
       "      <th>category</th>\n",
       "      <th>Final consumption expenditure by households</th>\n",
       "      <th>Final consumption expenditure by non-profit organisations serving households (NPISH)</th>\n",
       "      <th>Final consumption expenditure by government</th>\n",
       "      <th>Gross fixed capital formation</th>\n",
       "      <th>Changes in inventories</th>\n",
       "      <th>Changes in valuables</th>\n",
       "      <th>Exports: Total (fob)</th>\n",
       "    </tr>\n",
       "    <tr>\n",
       "      <th>region</th>\n",
       "      <th>sector</th>\n",
       "      <th></th>\n",
       "      <th></th>\n",
       "      <th></th>\n",
       "      <th></th>\n",
       "      <th></th>\n",
       "      <th></th>\n",
       "      <th></th>\n",
       "    </tr>\n",
       "  </thead>\n",
       "  <tbody>\n",
       "    <tr>\n",
       "      <th rowspan=\"5\" valign=\"top\">AT</th>\n",
       "      <th>Paddy rice</th>\n",
       "      <td>0.000000e+00</td>\n",
       "      <td>0.000000</td>\n",
       "      <td>0.000000</td>\n",
       "      <td>0.0</td>\n",
       "      <td>0.000000e+00</td>\n",
       "      <td>0</td>\n",
       "      <td>0</td>\n",
       "    </tr>\n",
       "    <tr>\n",
       "      <th>Wheat</th>\n",
       "      <td>8.109941e-01</td>\n",
       "      <td>0.000000</td>\n",
       "      <td>0.000000</td>\n",
       "      <td>0.0</td>\n",
       "      <td>6.153646e-03</td>\n",
       "      <td>0</td>\n",
       "      <td>0</td>\n",
       "    </tr>\n",
       "    <tr>\n",
       "      <th>Cereal grains nec</th>\n",
       "      <td>7.538257e-01</td>\n",
       "      <td>0.000000</td>\n",
       "      <td>0.000000</td>\n",
       "      <td>0.0</td>\n",
       "      <td>2.300348e-03</td>\n",
       "      <td>0</td>\n",
       "      <td>0</td>\n",
       "    </tr>\n",
       "    <tr>\n",
       "      <th>Vegetables, fruit, nuts</th>\n",
       "      <td>3.635396e+00</td>\n",
       "      <td>0.000000</td>\n",
       "      <td>0.000000</td>\n",
       "      <td>0.0</td>\n",
       "      <td>0.000000e+00</td>\n",
       "      <td>0</td>\n",
       "      <td>0</td>\n",
       "    </tr>\n",
       "    <tr>\n",
       "      <th>Oil seeds</th>\n",
       "      <td>3.967363e-09</td>\n",
       "      <td>0.000000</td>\n",
       "      <td>0.000000</td>\n",
       "      <td>0.0</td>\n",
       "      <td>2.376648e-10</td>\n",
       "      <td>0</td>\n",
       "      <td>0</td>\n",
       "    </tr>\n",
       "    <tr>\n",
       "      <th>...</th>\n",
       "      <th>...</th>\n",
       "      <td>...</td>\n",
       "      <td>...</td>\n",
       "      <td>...</td>\n",
       "      <td>...</td>\n",
       "      <td>...</td>\n",
       "      <td>...</td>\n",
       "      <td>...</td>\n",
       "    </tr>\n",
       "    <tr>\n",
       "      <th rowspan=\"5\" valign=\"top\">WM</th>\n",
       "      <th>Membership organisation services n.e.c. (91)</th>\n",
       "      <td>1.313962e-03</td>\n",
       "      <td>0.252829</td>\n",
       "      <td>0.001086</td>\n",
       "      <td>0.0</td>\n",
       "      <td>0.000000e+00</td>\n",
       "      <td>0</td>\n",
       "      <td>0</td>\n",
       "    </tr>\n",
       "    <tr>\n",
       "      <th>Recreational, cultural and sporting services (92)</th>\n",
       "      <td>0.000000e+00</td>\n",
       "      <td>0.747362</td>\n",
       "      <td>0.000000</td>\n",
       "      <td>0.0</td>\n",
       "      <td>4.507680e-03</td>\n",
       "      <td>0</td>\n",
       "      <td>0</td>\n",
       "    </tr>\n",
       "    <tr>\n",
       "      <th>Other services (93)</th>\n",
       "      <td>1.449982e+00</td>\n",
       "      <td>0.000000</td>\n",
       "      <td>0.000000</td>\n",
       "      <td>0.0</td>\n",
       "      <td>0.000000e+00</td>\n",
       "      <td>0</td>\n",
       "      <td>0</td>\n",
       "    </tr>\n",
       "    <tr>\n",
       "      <th>Private households with employed persons (95)</th>\n",
       "      <td>0.000000e+00</td>\n",
       "      <td>0.000000</td>\n",
       "      <td>0.000000</td>\n",
       "      <td>0.0</td>\n",
       "      <td>0.000000e+00</td>\n",
       "      <td>0</td>\n",
       "      <td>0</td>\n",
       "    </tr>\n",
       "    <tr>\n",
       "      <th>Extra-territorial organizations and bodies</th>\n",
       "      <td>0.000000e+00</td>\n",
       "      <td>0.000000</td>\n",
       "      <td>0.000000</td>\n",
       "      <td>0.0</td>\n",
       "      <td>0.000000e+00</td>\n",
       "      <td>0</td>\n",
       "      <td>0</td>\n",
       "    </tr>\n",
       "  </tbody>\n",
       "</table>\n",
       "<p>9800 rows × 7 columns</p>\n",
       "</div>"
      ],
      "text/plain": [
       "region                                                                                            NL  \\\n",
       "category                                                 Final consumption expenditure by households   \n",
       "region sector                                                                                          \n",
       "AT     Paddy rice                                                                       0.000000e+00   \n",
       "       Wheat                                                                            8.109941e-01   \n",
       "       Cereal grains nec                                                                7.538257e-01   \n",
       "       Vegetables, fruit, nuts                                                          3.635396e+00   \n",
       "       Oil seeds                                                                        3.967363e-09   \n",
       "...                                                                                              ...   \n",
       "WM     Membership organisation services n.e.c. (91)                                     1.313962e-03   \n",
       "       Recreational, cultural and sporting services (92)                                0.000000e+00   \n",
       "       Other services (93)                                                              1.449982e+00   \n",
       "       Private households with employed persons (95)                                    0.000000e+00   \n",
       "       Extra-territorial organizations and bodies                                       0.000000e+00   \n",
       "\n",
       "region                                                                                                                                         \\\n",
       "category                                                 Final consumption expenditure by non-profit organisations serving households (NPISH)   \n",
       "region sector                                                                                                                                   \n",
       "AT     Paddy rice                                                                                  0.000000                                     \n",
       "       Wheat                                                                                       0.000000                                     \n",
       "       Cereal grains nec                                                                           0.000000                                     \n",
       "       Vegetables, fruit, nuts                                                                     0.000000                                     \n",
       "       Oil seeds                                                                                   0.000000                                     \n",
       "...                                                                                                     ...                                     \n",
       "WM     Membership organisation services n.e.c. (91)                                                0.252829                                     \n",
       "       Recreational, cultural and sporting services (92)                                           0.747362                                     \n",
       "       Other services (93)                                                                         0.000000                                     \n",
       "       Private households with employed persons (95)                                               0.000000                                     \n",
       "       Extra-territorial organizations and bodies                                                  0.000000                                     \n",
       "\n",
       "region                                                                                                \\\n",
       "category                                                 Final consumption expenditure by government   \n",
       "region sector                                                                                          \n",
       "AT     Paddy rice                                                                           0.000000   \n",
       "       Wheat                                                                                0.000000   \n",
       "       Cereal grains nec                                                                    0.000000   \n",
       "       Vegetables, fruit, nuts                                                              0.000000   \n",
       "       Oil seeds                                                                            0.000000   \n",
       "...                                                                                              ...   \n",
       "WM     Membership organisation services n.e.c. (91)                                         0.001086   \n",
       "       Recreational, cultural and sporting services (92)                                    0.000000   \n",
       "       Other services (93)                                                                  0.000000   \n",
       "       Private households with employed persons (95)                                        0.000000   \n",
       "       Extra-territorial organizations and bodies                                           0.000000   \n",
       "\n",
       "region                                                                                  \\\n",
       "category                                                 Gross fixed capital formation   \n",
       "region sector                                                                            \n",
       "AT     Paddy rice                                                                  0.0   \n",
       "       Wheat                                                                       0.0   \n",
       "       Cereal grains nec                                                           0.0   \n",
       "       Vegetables, fruit, nuts                                                     0.0   \n",
       "       Oil seeds                                                                   0.0   \n",
       "...                                                                                ...   \n",
       "WM     Membership organisation services n.e.c. (91)                                0.0   \n",
       "       Recreational, cultural and sporting services (92)                           0.0   \n",
       "       Other services (93)                                                         0.0   \n",
       "       Private households with employed persons (95)                               0.0   \n",
       "       Extra-territorial organizations and bodies                                  0.0   \n",
       "\n",
       "region                                                                           \\\n",
       "category                                                 Changes in inventories   \n",
       "region sector                                                                     \n",
       "AT     Paddy rice                                                  0.000000e+00   \n",
       "       Wheat                                                       6.153646e-03   \n",
       "       Cereal grains nec                                           2.300348e-03   \n",
       "       Vegetables, fruit, nuts                                     0.000000e+00   \n",
       "       Oil seeds                                                   2.376648e-10   \n",
       "...                                                                         ...   \n",
       "WM     Membership organisation services n.e.c. (91)                0.000000e+00   \n",
       "       Recreational, cultural and sporting services (92)           4.507680e-03   \n",
       "       Other services (93)                                         0.000000e+00   \n",
       "       Private households with employed persons (95)               0.000000e+00   \n",
       "       Extra-territorial organizations and bodies                  0.000000e+00   \n",
       "\n",
       "region                                                                         \\\n",
       "category                                                 Changes in valuables   \n",
       "region sector                                                                   \n",
       "AT     Paddy rice                                                           0   \n",
       "       Wheat                                                                0   \n",
       "       Cereal grains nec                                                    0   \n",
       "       Vegetables, fruit, nuts                                              0   \n",
       "       Oil seeds                                                            0   \n",
       "...                                                                       ...   \n",
       "WM     Membership organisation services n.e.c. (91)                         0   \n",
       "       Recreational, cultural and sporting services (92)                    0   \n",
       "       Other services (93)                                                  0   \n",
       "       Private households with employed persons (95)                        0   \n",
       "       Extra-territorial organizations and bodies                           0   \n",
       "\n",
       "region                                                                         \n",
       "category                                                 Exports: Total (fob)  \n",
       "region sector                                                                  \n",
       "AT     Paddy rice                                                           0  \n",
       "       Wheat                                                                0  \n",
       "       Cereal grains nec                                                    0  \n",
       "       Vegetables, fruit, nuts                                              0  \n",
       "       Oil seeds                                                            0  \n",
       "...                                                                       ...  \n",
       "WM     Membership organisation services n.e.c. (91)                         0  \n",
       "       Recreational, cultural and sporting services (92)                    0  \n",
       "       Other services (93)                                                  0  \n",
       "       Private households with employed persons (95)                        0  \n",
       "       Extra-territorial organizations and bodies                           0  \n",
       "\n",
       "[9800 rows x 7 columns]"
      ]
     },
     "execution_count": 39,
     "metadata": {},
     "output_type": "execute_result"
    }
   ],
   "source": [
    "Y_mod = Y.loc[:,idx[\"NL\",:]]\n",
    "Y_mod"
   ]
  },
  {
   "cell_type": "markdown",
   "metadata": {
    "slideshow": {
     "slide_type": "subslide"
    }
   },
   "source": [
    "#### 5.1 We isolate the extension in which we are interested"
   ]
  },
  {
   "cell_type": "markdown",
   "metadata": {
    "slideshow": {
     "slide_type": "fragment"
    }
   },
   "source": [
    "For this exercise we only focus on the carbon fooprint\n",
    "\n",
    "*\"GHG emissions (GWP100) | Problem oriented approach: baseline (CML, 2001) | GWP100 (IPCC, 2007)\"* in kg"
   ]
  },
  {
   "cell_type": "code",
<<<<<<< HEAD
   "execution_count": 54,
   "metadata": {
    "slideshow": {
     "slide_type": "fragment"
    }
   },
   "outputs": [
    {
     "data": {
      "text/plain": [
       "['GHG emissions (GWP100) | Problem oriented approach: baseline (CML, 2001) | GWP100 (IPCC, 2007)',\n",
       " 'GHG emissions (GWP100) | Problem oriented approach: baseline (CML, 1999) | GWP100 (IPCC, 2007)',\n",
       " 'GHG emissions (GWP100min) | Problem oriented approach: non baseline (CML, 1999) | net GWP100 min(Houghton et al., 2001)',\n",
       " 'GHG emissions (GWP100max) | Problem oriented approach: non baseline (CML, 1999) | net GWP100 max(Houghton et al., 2001)',\n",
       " 'GHG emissions (GWP20) | Problem oriented approach: non baseline (CML, 1999) | GWP20 (IPCC, 2007)',\n",
       " 'GHG emissions (GWP500) | Problem oriented approach: non baseline (CML, 1999) | GWP500 (IPCC, 2007)',\n",
       " 'GHG emissions AR5 (GWP100) | GWP100 (IPCC, 2010)']"
      ]
     },
     "execution_count": 54,
     "metadata": {},
     "output_type": "execute_result"
    }
   ],
   "source": [
    "[ind for ind in F.index.unique() if \"GHG\" in ind]"
   ]
  },
  {
   "cell_type": "code",
   "execution_count": 61,
=======
   "execution_count": null,
>>>>>>> 94e09d9575c9be15f0fb34c7cde5e3efab04f072
   "metadata": {
    "slideshow": {
     "slide_type": "fragment"
    }
   },
   "outputs": [],
   "source": [
<<<<<<< HEAD
    "indicator = 'GHG emissions (GWP100) | Problem oriented approach: baseline (CML, 2001) | GWP100 (IPCC, 2007)'"
=======
    "indicator = \"\""
>>>>>>> 94e09d9575c9be15f0fb34c7cde5e3efab04f072
   ]
  },
  {
   "cell_type": "code",
   "execution_count": 64,
   "metadata": {
    "slideshow": {
     "slide_type": "fragment"
    }
   },
   "outputs": [],
   "source": [
    "# the intensity vector in which we are interested\n",
<<<<<<< HEAD
    "f_ = f.loc[indicator]"
=======
    "f_ =  None\n",
    "\n",
    "f_"
>>>>>>> 94e09d9575c9be15f0fb34c7cde5e3efab04f072
   ]
  },
  {
   "cell_type": "code",
   "execution_count": 81,
   "metadata": {
    "slideshow": {
     "slide_type": "fragment"
    }
   },
   "outputs": [
    {
     "data": {
      "text/plain": [
       "36012991537.77"
      ]
     },
     "execution_count": 81,
     "metadata": {},
     "output_type": "execute_result"
    }
   ],
   "source": [
    "# the final demand CO2 emissions\n",
    "\n",
    "e_hh_ = F_hh.loc[indicator, \"NL\"].sum()"
   ]
  },
  {
   "cell_type": "markdown",
   "metadata": {
    "slideshow": {
     "slide_type": "subslide"
    }
   },
   "source": [
    "#### 5.2 We calculate the total footprint of the region"
   ]
  },
  {
   "cell_type": "code",
   "execution_count": 99,
   "metadata": {
    "slideshow": {
     "slide_type": "fragment"
    }
   },
   "outputs": [
    {
     "data": {
      "text/plain": [
       "'2.44e+11'"
      ]
     },
     "execution_count": 99,
     "metadata": {},
     "output_type": "execute_result"
    }
   ],
   "source": [
    "# Calculate the total global footprint\n",
<<<<<<< HEAD
    "e_total = f_@L@Y_mod.sum(axis=1)+e_hh_\n",
    "np.format_float_scientific(e_total,2)"
=======
    "e_total_reg = None\n",
    "e_total_reg"
>>>>>>> 94e09d9575c9be15f0fb34c7cde5e3efab04f072
   ]
  },
  {
   "cell_type": "markdown",
   "metadata": {
    "slideshow": {
     "slide_type": "slide"
    }
   },
   "source": [
    "## Exercise 5: Which regions emit the most CO2 as a result of final consumption in the Netherlands?"
   ]
  },
  {
   "cell_type": "markdown",
   "metadata": {
    "slideshow": {
     "slide_type": "subslide"
    }
   },
   "source": [
    "#### 5.3 Let's analyse in which regions CO2 is emitted the most as a result of NL consumption"
   ]
  },
  {
   "cell_type": "code",
   "execution_count": 106,
   "metadata": {
    "slideshow": {
     "slide_type": "fragment"
    }
   },
   "outputs": [
    {
     "data": {
      "text/html": [
       "<div>\n",
       "<style scoped>\n",
       "    .dataframe tbody tr th:only-of-type {\n",
       "        vertical-align: middle;\n",
       "    }\n",
       "\n",
       "    .dataframe tbody tr th {\n",
       "        vertical-align: top;\n",
       "    }\n",
       "\n",
       "    .dataframe thead th {\n",
       "        text-align: right;\n",
       "    }\n",
       "</style>\n",
       "<table border=\"1\" class=\"dataframe\">\n",
       "  <thead>\n",
       "    <tr style=\"text-align: right;\">\n",
       "      <th></th>\n",
       "      <th>0</th>\n",
       "    </tr>\n",
       "    <tr>\n",
       "      <th>region</th>\n",
       "      <th></th>\n",
       "    </tr>\n",
       "  </thead>\n",
       "  <tbody>\n",
       "    <tr>\n",
       "      <th>AT</th>\n",
       "      <td>2.715321e+08</td>\n",
       "    </tr>\n",
       "    <tr>\n",
       "      <th>AU</th>\n",
       "      <td>4.711282e+08</td>\n",
       "    </tr>\n",
       "    <tr>\n",
       "      <th>BE</th>\n",
       "      <td>5.874606e+09</td>\n",
       "    </tr>\n",
       "    <tr>\n",
       "      <th>BG</th>\n",
       "      <td>1.455484e+08</td>\n",
       "    </tr>\n",
       "    <tr>\n",
       "      <th>BR</th>\n",
       "      <td>1.210838e+09</td>\n",
       "    </tr>\n",
       "    <tr>\n",
       "      <th>CA</th>\n",
       "      <td>3.977631e+08</td>\n",
       "    </tr>\n",
       "    <tr>\n",
       "      <th>CH</th>\n",
       "      <td>5.287058e+08</td>\n",
       "    </tr>\n",
       "    <tr>\n",
       "      <th>CN</th>\n",
       "      <td>8.834112e+09</td>\n",
       "    </tr>\n",
       "    <tr>\n",
       "      <th>CY</th>\n",
       "      <td>3.046868e+07</td>\n",
       "    </tr>\n",
       "    <tr>\n",
       "      <th>CZ</th>\n",
       "      <td>3.647677e+08</td>\n",
       "    </tr>\n",
       "    <tr>\n",
       "      <th>DE</th>\n",
       "      <td>6.069977e+09</td>\n",
       "    </tr>\n",
       "    <tr>\n",
       "      <th>DK</th>\n",
       "      <td>5.964279e+08</td>\n",
       "    </tr>\n",
       "    <tr>\n",
       "      <th>EE</th>\n",
       "      <td>7.075820e+07</td>\n",
       "    </tr>\n",
       "    <tr>\n",
       "      <th>ES</th>\n",
       "      <td>1.520425e+09</td>\n",
       "    </tr>\n",
       "    <tr>\n",
       "      <th>FI</th>\n",
       "      <td>5.759658e+08</td>\n",
       "    </tr>\n",
       "    <tr>\n",
       "      <th>FR</th>\n",
       "      <td>2.462022e+09</td>\n",
       "    </tr>\n",
       "    <tr>\n",
       "      <th>GB</th>\n",
       "      <td>3.658809e+09</td>\n",
       "    </tr>\n",
       "    <tr>\n",
       "      <th>GR</th>\n",
       "      <td>3.470183e+08</td>\n",
       "    </tr>\n",
       "    <tr>\n",
       "      <th>HR</th>\n",
       "      <td>2.398544e+07</td>\n",
       "    </tr>\n",
       "    <tr>\n",
       "      <th>HU</th>\n",
       "      <td>3.629677e+08</td>\n",
       "    </tr>\n",
       "    <tr>\n",
       "      <th>ID</th>\n",
       "      <td>3.537217e+08</td>\n",
       "    </tr>\n",
       "    <tr>\n",
       "      <th>IE</th>\n",
       "      <td>3.066975e+09</td>\n",
       "    </tr>\n",
       "    <tr>\n",
       "      <th>IN</th>\n",
       "      <td>2.264058e+09</td>\n",
       "    </tr>\n",
       "    <tr>\n",
       "      <th>IT</th>\n",
       "      <td>1.030386e+09</td>\n",
       "    </tr>\n",
       "    <tr>\n",
       "      <th>JP</th>\n",
       "      <td>3.354844e+08</td>\n",
       "    </tr>\n",
       "    <tr>\n",
       "      <th>KR</th>\n",
       "      <td>9.456454e+07</td>\n",
       "    </tr>\n",
       "    <tr>\n",
       "      <th>LT</th>\n",
       "      <td>2.267765e+08</td>\n",
       "    </tr>\n",
       "    <tr>\n",
       "      <th>LU</th>\n",
       "      <td>3.722963e+08</td>\n",
       "    </tr>\n",
       "    <tr>\n",
       "      <th>LV</th>\n",
       "      <td>8.027493e+07</td>\n",
       "    </tr>\n",
       "    <tr>\n",
       "      <th>MT</th>\n",
       "      <td>4.682769e+07</td>\n",
       "    </tr>\n",
       "    <tr>\n",
       "      <th>MX</th>\n",
       "      <td>2.862534e+08</td>\n",
       "    </tr>\n",
       "    <tr>\n",
       "      <th>NL</th>\n",
       "      <td>1.218134e+11</td>\n",
       "    </tr>\n",
       "    <tr>\n",
       "      <th>NO</th>\n",
       "      <td>6.225725e+08</td>\n",
       "    </tr>\n",
       "    <tr>\n",
       "      <th>PL</th>\n",
       "      <td>2.079825e+09</td>\n",
       "    </tr>\n",
       "    <tr>\n",
       "      <th>PT</th>\n",
       "      <td>3.839521e+08</td>\n",
       "    </tr>\n",
       "    <tr>\n",
       "      <th>RO</th>\n",
       "      <td>2.713854e+08</td>\n",
       "    </tr>\n",
       "    <tr>\n",
       "      <th>RU</th>\n",
       "      <td>2.135383e+09</td>\n",
       "    </tr>\n",
       "    <tr>\n",
       "      <th>SE</th>\n",
       "      <td>6.849230e+08</td>\n",
       "    </tr>\n",
       "    <tr>\n",
       "      <th>SI</th>\n",
       "      <td>5.108870e+07</td>\n",
       "    </tr>\n",
       "    <tr>\n",
       "      <th>SK</th>\n",
       "      <td>1.741083e+08</td>\n",
       "    </tr>\n",
       "    <tr>\n",
       "      <th>TR</th>\n",
       "      <td>7.991629e+08</td>\n",
       "    </tr>\n",
       "    <tr>\n",
       "      <th>TW</th>\n",
       "      <td>8.448674e+08</td>\n",
       "    </tr>\n",
       "    <tr>\n",
       "      <th>US</th>\n",
       "      <td>3.170192e+09</td>\n",
       "    </tr>\n",
       "    <tr>\n",
       "      <th>WA</th>\n",
       "      <td>1.358405e+10</td>\n",
       "    </tr>\n",
       "    <tr>\n",
       "      <th>WE</th>\n",
       "      <td>2.191533e+09</td>\n",
       "    </tr>\n",
       "    <tr>\n",
       "      <th>WF</th>\n",
       "      <td>4.934408e+09</td>\n",
       "    </tr>\n",
       "    <tr>\n",
       "      <th>WL</th>\n",
       "      <td>4.165550e+09</td>\n",
       "    </tr>\n",
       "    <tr>\n",
       "      <th>WM</th>\n",
       "      <td>6.286181e+09</td>\n",
       "    </tr>\n",
       "    <tr>\n",
       "      <th>ZA</th>\n",
       "      <td>1.685995e+09</td>\n",
       "    </tr>\n",
       "  </tbody>\n",
       "</table>\n",
       "</div>"
      ],
      "text/plain": [
       "                   0\n",
       "region              \n",
       "AT      2.715321e+08\n",
       "AU      4.711282e+08\n",
       "BE      5.874606e+09\n",
       "BG      1.455484e+08\n",
       "BR      1.210838e+09\n",
       "CA      3.977631e+08\n",
       "CH      5.287058e+08\n",
       "CN      8.834112e+09\n",
       "CY      3.046868e+07\n",
       "CZ      3.647677e+08\n",
       "DE      6.069977e+09\n",
       "DK      5.964279e+08\n",
       "EE      7.075820e+07\n",
       "ES      1.520425e+09\n",
       "FI      5.759658e+08\n",
       "FR      2.462022e+09\n",
       "GB      3.658809e+09\n",
       "GR      3.470183e+08\n",
       "HR      2.398544e+07\n",
       "HU      3.629677e+08\n",
       "ID      3.537217e+08\n",
       "IE      3.066975e+09\n",
       "IN      2.264058e+09\n",
       "IT      1.030386e+09\n",
       "JP      3.354844e+08\n",
       "KR      9.456454e+07\n",
       "LT      2.267765e+08\n",
       "LU      3.722963e+08\n",
       "LV      8.027493e+07\n",
       "MT      4.682769e+07\n",
       "MX      2.862534e+08\n",
       "NL      1.218134e+11\n",
       "NO      6.225725e+08\n",
       "PL      2.079825e+09\n",
       "PT      3.839521e+08\n",
       "RO      2.713854e+08\n",
       "RU      2.135383e+09\n",
       "SE      6.849230e+08\n",
       "SI      5.108870e+07\n",
       "SK      1.741083e+08\n",
       "TR      7.991629e+08\n",
       "TW      8.448674e+08\n",
       "US      3.170192e+09\n",
       "WA      1.358405e+10\n",
       "WE      2.191533e+09\n",
       "WF      4.934408e+09\n",
       "WL      4.165550e+09\n",
       "WM      6.286181e+09\n",
       "ZA      1.685995e+09"
      ]
     },
     "execution_count": 106,
     "metadata": {},
     "output_type": "execute_result"
    }
   ],
   "source": [
    "# In this case we diagonalize the emission intensity vector \n",
<<<<<<< HEAD
    "e_breakdown = pd.DataFrame(f_@L@np.diag(Y_mod.sum(axis=1)))\n",
    "e_breakdown.index=Y.index\n",
    "e_breakdown.groupby(level=\"region\").sum()"
   ]
  },
  {
   "cell_type": "code",
   "execution_count": null,
   "metadata": {
    "slideshow": {
     "slide_type": "subslide"
    }
   },
   "outputs": [],
   "source": [
    "# we apply the sectoral labels\n",
    "e_breakdown = None\n",
    "\n",
    "# we print the results\n",
    "e_breakdown"
   ]
  },
  {
   "cell_type": "markdown",
   "metadata": {
    "slideshow": {
     "slide_type": "subslide"
    }
   },
   "source": [
    "We then sum the results by using the groupby and sum methods in combination in the following manner"
=======
    "e_breakdown = None"
>>>>>>> 94e09d9575c9be15f0fb34c7cde5e3efab04f072
   ]
  },
  {
   "cell_type": "code",
   "execution_count": null,
   "metadata": {
    "slideshow": {
     "slide_type": "fragment"
    }
   },
   "outputs": [],
   "source": [
    "# we apply the sectoral labels\n",
    "e_breakdown.index = None\n",
    "\n",
    "e_breakdown"
   ]
  },
  {
   "cell_type": "code",
   "execution_count": null,
   "metadata": {
    "slideshow": {
     "slide_type": "subslide"
    }
   },
   "outputs": [],
   "source": [
    "# Right now, we are only interested in the impacts of regions, so so we sum across axis 1\n",
    "e_prod_reg = None"
   ]
  },
  {
   "cell_type": "code",
   "execution_count": null,
   "metadata": {
    "slideshow": {
     "slide_type": "fragment"
    }
   },
   "outputs": [],
   "source": [
    "# and then we sum the results by regions by using the groupby methods\n",
    "e_regional_breakdown = None"
   ]
  },
  {
   "cell_type": "code",
   "execution_count": null,
   "metadata": {
    "slideshow": {
     "slide_type": "subslide"
    }
   },
   "outputs": [],
   "source": [
    "# We sort the results from largest to smallest to see the most impacting regions\n",
    "e_rb_sorted = None\n",
    "\n",
    "e_rb_sorted"
   ]
  },
  {
   "cell_type": "markdown",
   "metadata": {
    "slideshow": {
     "slide_type": "slide"
    }
   },
   "source": [
    "## Exercise 6: Let's plot the results for the top 15 emitters \n",
    "\n",
    "Using pandas you can make simple visualizations directly from dataframes and series\n",
    "\n",
    "see more here: https://pandas.pydata.org/pandas-docs/stable/reference/api/pandas.DataFrame.plot.html"
   ]
  },
  {
   "cell_type": "markdown",
   "metadata": {
    "slideshow": {
     "slide_type": "subslide"
    }
   },
   "source": [
    "#### 6.1 Totals of the top 15 emitters"
   ]
  },
  {
   "cell_type": "code",
   "execution_count": null,
   "metadata": {
    "slideshow": {
     "slide_type": "fragment"
    }
   },
   "outputs": [],
   "source": [
    "# plot your results with plot.bar()\n",
    "top_15_results = None\n",
    "\n",
    "top_15_plot = None\n",
    "\n",
    "# applying bar labels\n",
    "top_15_plot = None"
   ]
  },
  {
   "cell_type": "markdown",
   "metadata": {
    "slideshow": {
     "slide_type": "subslide"
    }
   },
   "source": [
    "#### 6.2 Let's normalize results by the total footprint of NL consumption"
   ]
  },
  {
   "cell_type": "code",
   "execution_count": null,
   "metadata": {
    "slideshow": {
     "slide_type": "fragment"
    }
   },
   "outputs": [],
   "source": [
    "# Normalize your results\n",
    "e_rb_sorted_norm = None"
   ]
  },
  {
   "cell_type": "code",
   "execution_count": null,
   "metadata": {
    "slideshow": {
     "slide_type": "slide"
    }
   },
   "outputs": [],
   "source": [
    "# Plot top 15 regions\n",
    "top_15_norm_plot = None\n",
    "\n",
    "# applying bar labels\n",
    "top_15_norm_plot = None"
   ]
  }
 ],
 "metadata": {
  "celltoolbar": "Slideshow",
  "kernelspec": {
   "display_name": "Python 3 (ipykernel)",
   "language": "python",
   "name": "python3"
  },
  "language_info": {
   "codemirror_mode": {
    "name": "ipython",
    "version": 3
   },
   "file_extension": ".py",
   "mimetype": "text/x-python",
   "name": "python",
   "nbconvert_exporter": "python",
   "pygments_lexer": "ipython3",
<<<<<<< HEAD
   "version": "3.12.1"
=======
   "version": "3.9.16"
>>>>>>> 94e09d9575c9be15f0fb34c7cde5e3efab04f072
  },
  "vscode": {
   "interpreter": {
    "hash": "a0de1fb450ee5e26d734f0aa5b4c4b29e20575809e5e66472467df7627fd957d"
   }
  }
 },
 "nbformat": 4,
<<<<<<< HEAD
 "nbformat_minor": 4
=======
 "nbformat_minor": 2
>>>>>>> 94e09d9575c9be15f0fb34c7cde5e3efab04f072
}
