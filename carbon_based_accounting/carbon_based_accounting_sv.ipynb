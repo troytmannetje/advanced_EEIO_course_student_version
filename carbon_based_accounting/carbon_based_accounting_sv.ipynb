{
 "cells": [
  {
   "cell_type": "markdown",
   "metadata": {
    "slideshow": {
     "slide_type": "slide"
    }
   },
   "source": [
    "# Practical 7: Technology adjusted Carbon Based Accounting\n",
    "\n",
    "Objectives\n",
    "- Calculate TCBA\n",
    "- Calculate Scope 1, 2, 3 emissions\n",
    "- Visualize results\n",
    "\n",
    "**Technology adjusted consumption-based accounting**\n",
    "\n",
    "- In the [supplementary Information](https://static-content.springer.com/esm/art%3A10.1038%2Fnclimate2555/MediaObjects/41558_2015_BFnclimate2555_MOESM453_ESM.xlsx) file of [Kander et al. (2015), *National greenhouse-gas accounting for effective climate policy on international trade*](https://www.nature.com/articles/nclimate2555#Tab1), the authors illustrated the TCBA calculation and results in a spreadsheet.\n",
    "\n",
    "- Download and go through the spreadsheet example to further understand the TCBA calculations. \n"
   ]
  },
  {
   "cell_type": "code",
   "execution_count": 1,
   "metadata": {
    "slideshow": {
     "slide_type": "slide"
    }
   },
   "outputs": [],
   "source": [
    "# Import packages\n",
    "import pandas as pd\n",
    "import numpy as np\n",
    "import matplotlib.pyplot as plt"
   ]
  },
  {
   "cell_type": "markdown",
   "metadata": {
    "slideshow": {
     "slide_type": "slide"
    }
   },
   "source": [
    "## Exercise 1: Calculate and visualize CBA vs TCBA"
   ]
  },
  {
   "cell_type": "markdown",
   "metadata": {
    "slideshow": {
     "slide_type": "subslide"
    }
   },
   "source": [
    "### 1.1 Import the downloaded data"
   ]
  },
  {
   "cell_type": "code",
<<<<<<< HEAD
   "execution_count": 2,
=======
   "execution_count": null,
>>>>>>> ed99c8ca4bcfc508063dda8356bfebcc7fc087b9
   "metadata": {
    "slideshow": {
     "slide_type": "fragment"
    }
   },
   "outputs": [],
   "source": [
    "# Import exiobase\n",
    "data_file = 'data/41558_2015_BFnclimate2555_MOESM453_ESM.xlsx'    # add name of folder where data is stored\n",
    "\n",
    "Z = pd.read_excel(data_file, sheet_name='TCBA Example', header = 2, usecols='C:N', nrows=12).values\n",
    "\n",
    "Y = pd.read_excel(data_file, sheet_name='TCBA Example', header = 2, usecols='P:R', nrows=12).values\n",
    "\n",
    "V = pd.read_excel(data_file, sheet_name='TCBA Example', header = 15, usecols='C:N', nrows=3).sum(0).values\n",
    "\n",
    "F = pd.read_excel(\n",
    "    data_file, sheet_name=\"TCBA Example\", header=21, usecols=\"C:N\", nrows=1\n",
    ").values[0]"
   ]
  },
  {
   "cell_type": "markdown",
   "metadata": {
    "slideshow": {
     "slide_type": "subslide"
    }
   },
   "source": [
    "### 1.2 Calculate other IO variables"
   ]
  },
  {
   "cell_type": "code",
<<<<<<< HEAD
   "execution_count": 3,
=======
   "execution_count": null,
>>>>>>> ed99c8ca4bcfc508063dda8356bfebcc7fc087b9
   "metadata": {
    "slideshow": {
     "slide_type": "fragment"
    }
   },
   "outputs": [],
   "source": [
    "x = Z.sum(1) + Y.sum(1)\n",
    "f = F/x\n",
    "A = Z/x\n",
<<<<<<< HEAD
    "I = np.eye(A.shape[0])\n",
=======
    "I = np.identity(A.shape[0])\n",
>>>>>>> ed99c8ca4bcfc508063dda8356bfebcc7fc087b9
    "L = np.linalg.inv(I - A)"
   ]
  },
  {
   "cell_type": "markdown",
   "metadata": {
    "slideshow": {
     "slide_type": "subslide"
    }
   },
   "source": [
    "### 1.3 TCBA calculations"
   ]
  },
  {
   "cell_type": "markdown",
   "metadata": {
    "slideshow": {
     "slide_type": "fragment"
    }
   },
   "source": [
    "#### 1.3.1 Export-related output"
   ]
  },
  {
   "cell_type": "code",
<<<<<<< HEAD
   "execution_count": 17,
=======
   "execution_count": null,
>>>>>>> ed99c8ca4bcfc508063dda8356bfebcc7fc087b9
   "metadata": {
    "slideshow": {
     "slide_type": "fragment"
    }
   },
<<<<<<< HEAD
   "outputs": [
    {
     "data": {
      "text/plain": [
       "array([[1884.99914448, 2675.85882213, 2340.03299151],\n",
       "       [1973.52285678, 2389.96249768, 2293.60687569],\n",
       "       [1949.73444583, 2674.10946478, 2894.01234802],\n",
       "       [2071.35736233, 3053.88678288, 2742.85823049],\n",
       "       [2291.03613965, 2592.86995202, 2980.42777823],\n",
       "       [3322.02479378, 3155.49154411, 3033.76588867],\n",
       "       [1821.00196378, 2392.20958819, 2903.5998466 ],\n",
       "       [2283.14542255, 2089.32196886, 2304.07982691],\n",
       "       [2184.68867051, 2467.62052168, 2429.26820175],\n",
       "       [2016.80495015, 1863.32313603, 2564.79496106],\n",
       "       [1926.43419023, 2799.10387779, 2600.88030532],\n",
       "       [2533.15335664, 3068.77056268, 3009.77261416]])"
      ]
     },
     "execution_count": 17,
     "metadata": {},
     "output_type": "execute_result"
    }
   ],
=======
   "outputs": [],
>>>>>>> ed99c8ca4bcfc508063dda8356bfebcc7fc087b9
   "source": [
    "# output multiplier\n",
    "x_mult = L @ Y\n",
    "x_mult"
   ]
  },
  {
   "cell_type": "code",
<<<<<<< HEAD
   "execution_count": 16,
=======
   "execution_count": null,
>>>>>>> ed99c8ca4bcfc508063dda8356bfebcc7fc087b9
   "metadata": {
    "slideshow": {
     "slide_type": "slide"
    }
   },
<<<<<<< HEAD
   "outputs": [
    {
     "data": {
      "text/plain": [
       "array([[   0.        , 2675.85882213, 2340.03299151],\n",
       "       [   0.        , 2389.96249768, 2293.60687569],\n",
       "       [   0.        , 2674.10946478, 2894.01234802],\n",
       "       [   0.        , 3053.88678288, 2742.85823049],\n",
       "       [2291.03613965,    0.        , 2980.42777823],\n",
       "       [3322.02479378,    0.        , 3033.76588867],\n",
       "       [1821.00196378,    0.        , 2903.5998466 ],\n",
       "       [2283.14542255,    0.        , 2304.07982691],\n",
       "       [2184.68867051, 2467.62052168,    0.        ],\n",
       "       [2016.80495015, 1863.32313603,    0.        ],\n",
       "       [1926.43419023, 2799.10387779,    0.        ],\n",
       "       [2533.15335664, 3068.77056268,    0.        ]])"
      ]
     },
     "execution_count": 16,
     "metadata": {},
     "output_type": "execute_result"
    }
   ],
   "source": [
    "s = 4\n",
    "r = 3\n",
    "# remove domestic trasactions (the diagonals)\n",
    "ex_mult=x_mult.copy()\n",
    "for i in range(r):\n",
    "    ex_mult[s*i:s*(i+1),i] = 0           \n",
    "\n",
    "# Add here your expression to convert all domestic values into 0\n",
=======
   "outputs": [],
   "source": [
    "# remove domestic trasactions (the diagonals)\n",
    "ex_mult = x_mult.copy()\n",
    "\n",
    "no_regions = 3  # number of regions\n",
    "no_sectors = 4  # number of sectors\n",
    "\n",
    "for i in range(no_regions):\n",
    "    row_start = None\n",
    "    row_end = None\n",
    "\n",
    "    ex_mult[ row_start : row_end , i] = 0           \n",
    "\n",
>>>>>>> ed99c8ca4bcfc508063dda8356bfebcc7fc087b9
    "ex_mult"
   ]
  },
  {
   "cell_type": "code",
<<<<<<< HEAD
   "execution_count": 19,
=======
   "execution_count": null,
>>>>>>> ed99c8ca4bcfc508063dda8356bfebcc7fc087b9
   "metadata": {
    "slideshow": {
     "slide_type": "subslide"
    }
   },
<<<<<<< HEAD
   "outputs": [
    {
     "data": {
      "text/plain": [
       "array([5015.89181364, 4683.56937337, 5568.1218128 , 5796.74501337,\n",
       "       5271.46391788, 6355.79068245, 4724.60181039, 4587.22524946,\n",
       "       4652.30919219, 3880.12808617, 4725.53806802, 5601.92391932])"
      ]
     },
     "execution_count": 19,
     "metadata": {},
     "output_type": "execute_result"
    }
   ],
   "source": [
    "# The total product output for only export \n",
    "ex = ex_mult.sum(axis=1)\n",
=======
   "outputs": [],
   "source": [
    "# The total product output for only export \n",
    "ex = ex_mult.sum(1)\n",
>>>>>>> ed99c8ca4bcfc508063dda8356bfebcc7fc087b9
    "ex"
   ]
  },
  {
   "cell_type": "markdown",
   "metadata": {
    "slideshow": {
     "slide_type": "slide"
    }
   },
   "source": [
    "#### 1.3.2 Export-related emissions"
   ]
  },
  {
   "cell_type": "code",
<<<<<<< HEAD
   "execution_count": 20,
=======
   "execution_count": null,
>>>>>>> ed99c8ca4bcfc508063dda8356bfebcc7fc087b9
   "metadata": {
    "slideshow": {
     "slide_type": "fragment"
    }
   },
<<<<<<< HEAD
   "outputs": [
    {
     "data": {
      "text/plain": [
       "array([218.05409667, 225.13466055, 207.38280355, 294.69596284,\n",
       "       268.12004704, 213.83583937, 132.7729947 , 103.05982492,\n",
       "       262.78378013, 138.4701498 , 257.99990267, 325.25088974])"
      ]
     },
     "execution_count": 20,
     "metadata": {},
     "output_type": "execute_result"
    }
   ],
   "source": [
    "# Export-related emissions\n",
    "F_ex = np.diag(f) @ ex\n",
=======
   "outputs": [],
   "source": [
    "# Export-related emissions (use np.diag(f)@ x_mult)\n",
    "F_ex = None\n",
>>>>>>> ed99c8ca4bcfc508063dda8356bfebcc7fc087b9
    "F_ex"
   ]
  },
  {
<<<<<<< HEAD
=======
   "cell_type": "code",
   "execution_count": null,
   "metadata": {},
   "outputs": [],
   "source": [
    "# Vector of export related emissions (direct emissions PBA sum=1)\n",
    "F_ex = None\n",
    "F_ex"
   ]
  },
  {
>>>>>>> ed99c8ca4bcfc508063dda8356bfebcc7fc087b9
   "cell_type": "markdown",
   "metadata": {
    "slideshow": {
     "slide_type": "slide"
    }
   },
   "source": [
    "#### 1.3.3 Calculate 'World market average emissions multiplier'"
   ]
  },
  {
   "cell_type": "code",
<<<<<<< HEAD
   "execution_count": 21,
=======
   "execution_count": null,
>>>>>>> ed99c8ca4bcfc508063dda8356bfebcc7fc087b9
   "metadata": {
    "slideshow": {
     "slide_type": "fragment"
    }
   },
   "outputs": [],
   "source": [
<<<<<<< HEAD
    "# Split the ex and F into 3 arrays, one for each region \n",
    "sect_ex = np.array([ex[s*n:s*(n+1)] for n in range(r)])\n",
    "sect_F_ex = np.array([F_ex[s*n:s*(n+1)] for n in range(r)])"
=======
    "# Split the ex and F into 3 arrays, one for each region (use np.split)\n",
    "sect_ex = None\n",
    "sect_F_ex = None\n",
    "sect_ex, sect_F_ex"
>>>>>>> ed99c8ca4bcfc508063dda8356bfebcc7fc087b9
   ]
  },
  {
   "cell_type": "code",
<<<<<<< HEAD
   "execution_count": 22,
=======
   "execution_count": null,
>>>>>>> ed99c8ca4bcfc508063dda8356bfebcc7fc087b9
   "metadata": {
    "slideshow": {
     "slide_type": "subslide"
    }
   },
   "outputs": [],
   "source": [
    "# Sum them over axis 0, in this way you have the total global ex and F_ex by sector\n",
<<<<<<< HEAD
    "sect_ex_sum = sect_ex.sum(axis=0)\n",
    "sect_F_ex_sum = sect_F_ex.sum(axis=0)"
=======
    "sect_ex_sum = None\n",
    "sect_F_ex_sum = None\n",
    "sect_ex_sum, sect_F_ex_sum"
>>>>>>> ed99c8ca4bcfc508063dda8356bfebcc7fc087b9
   ]
  },
  {
   "cell_type": "code",
<<<<<<< HEAD
   "execution_count": 23,
=======
   "execution_count": null,
>>>>>>> ed99c8ca4bcfc508063dda8356bfebcc7fc087b9
   "metadata": {
    "slideshow": {
     "slide_type": "fragment"
    }
   },
<<<<<<< HEAD
   "outputs": [
    {
     "data": {
      "text/plain": [
       "array([0.05013218, 0.03870378, 0.03982856, 0.04522779])"
      ]
     },
     "execution_count": 23,
     "metadata": {},
     "output_type": "execute_result"
    }
   ],
   "source": [
    "# calculate the average global environmental intensity by sector\n",
    "f_wa_sec = sect_F_ex_sum/sect_ex_sum\n",
=======
   "outputs": [],
   "source": [
    "# calculate the average global environmental intensity by sector\n",
    "f_wa_sec = None\n",
>>>>>>> ed99c8ca4bcfc508063dda8356bfebcc7fc087b9
    "f_wa_sec"
   ]
  },
  {
   "cell_type": "code",
<<<<<<< HEAD
   "execution_count": 24,
=======
   "execution_count": null,
>>>>>>> ed99c8ca4bcfc508063dda8356bfebcc7fc087b9
   "metadata": {
    "slideshow": {
     "slide_type": "fragment"
    }
   },
<<<<<<< HEAD
   "outputs": [
    {
     "data": {
      "text/plain": [
       "array([0.05013218, 0.03870378, 0.03982856, 0.04522779, 0.05013218,\n",
       "       0.03870378, 0.03982856, 0.04522779, 0.05013218, 0.03870378,\n",
       "       0.03982856, 0.04522779])"
      ]
     },
     "execution_count": 24,
     "metadata": {},
     "output_type": "execute_result"
    }
   ],
   "source": [
    "# replicate it for each region\n",
    "f_wa = np.tile(f_wa_sec, r)\n",
=======
   "outputs": [],
   "source": [
    "# replicate it for each region\n",
    "f_wa = None\n",
>>>>>>> ed99c8ca4bcfc508063dda8356bfebcc7fc087b9
    "f_wa"
   ]
  },
  {
   "cell_type": "markdown",
   "metadata": {
    "slideshow": {
     "slide_type": "subslide"
    }
   },
   "source": [
    "#### 1.3.4 Export-related emissions by TCBA"
   ]
  },
  {
   "cell_type": "code",
<<<<<<< HEAD
   "execution_count": 56,
=======
   "execution_count": null,
>>>>>>> ed99c8ca4bcfc508063dda8356bfebcc7fc087b9
   "metadata": {
    "slideshow": {
     "slide_type": "fragment"
    }
   },
   "outputs": [],
   "source": [
    "# Export-related emissions by TCBA  \n",
    "F_ex_TCBA = None\n",
    "F_ex_TCBA"
   ]
  },
  {
   "cell_type": "markdown",
   "metadata": {
    "slideshow": {
     "slide_type": "subslide"
    }
   },
   "source": [
    "#### 1.3.5 Adjust export-related emissions (i.e. TCBA)"
   ]
  },
  {
   "cell_type": "code",
   "execution_count": null,
   "metadata": {
    "slideshow": {
     "slide_type": "fragment"
    }
   },
   "outputs": [],
   "source": [
    "CBA = None  # note F_hh is neglected in this example\n",
    "CBA"
   ]
  },
  {
   "cell_type": "code",
   "execution_count": null,
   "metadata": {
    "slideshow": {
     "slide_type": "fragment"
    }
   },
   "outputs": [],
   "source": [
    "# calculate the different between the total emissions due to exports from the technolgy adjusted ones \n",
<<<<<<< HEAD
    "delta_ex = None\n",
    "delta_ex"
=======
    "diff_ex = None\n",
    "diff_ex"
>>>>>>> ed99c8ca4bcfc508063dda8356bfebcc7fc087b9
   ]
  },
  {
   "cell_type": "code",
   "execution_count": null,
   "metadata": {
    "slideshow": {
     "slide_type": "subslide"
    }
   },
   "outputs": [],
   "source": [
    "# We aggregate this difference regionally\n",
<<<<<<< HEAD
    "delta_ex_r = None\n",
    "delta_ex_r"
=======
    "diff_ex_r = None\n",
    "diff_ex_r"
>>>>>>> ed99c8ca4bcfc508063dda8356bfebcc7fc087b9
   ]
  },
  {
   "cell_type": "code",
   "execution_count": null,
   "metadata": {
    "slideshow": {
     "slide_type": "fragment"
    }
   },
   "outputs": [],
   "source": [
<<<<<<< HEAD
    "# Calculate the TCBA\n",
=======
    "# Calculate the TCBA by summing the difference to the CBA\n",
>>>>>>> ed99c8ca4bcfc508063dda8356bfebcc7fc087b9
    "TCBA = None\n",
    "TCBA"
   ]
  },
  {
   "cell_type": "markdown",
   "metadata": {
    "slideshow": {
     "slide_type": "slide"
    }
   },
   "source": [
    "### 1.4 Visualize results"
   ]
  },
  {
   "cell_type": "code",
   "execution_count": null,
   "metadata": {
    "slideshow": {
     "slide_type": "fragment"
    }
   },
   "outputs": [],
   "source": [
<<<<<<< HEAD
=======
    "# Concatenate results to be visualized\n",
>>>>>>> ed99c8ca4bcfc508063dda8356bfebcc7fc087b9
    "results = np.concatenate([[CBA], [TCBA]])\n",
    "results"
   ]
  },
  {
   "cell_type": "code",
   "execution_count": null,
   "metadata": {
    "slideshow": {
     "slide_type": "subslide"
    }
   },
   "outputs": [],
   "source": [
    "# Plotting the figure\n",
    "fig = plt.figure()\n",
    "\n",
    "# settings and positioning of the bars\n",
    "X_axis_pos = np.arange(no_regions)\n",
    "plt.bar(X_axis_pos - 0.16, results[0], color = 'b', width = 0.3)\n",
    "plt.bar(X_axis_pos + 0.16, results[1], color = 'g', width = 0.3)\n",
    "\n",
    "#axis labels\n",
    "plt.ylabel('Consumption-based Emissions, kg/year')\n",
    "plt.xticks(X_axis_pos, ['R1', 'R2', 'R3'])\n",
    "\n",
    "# Title of the graph\n",
    "plt.title('CBA vs. TCBA')\n",
    "\n",
    "# Legend\n",
    "plt.legend(labels=['CBA', 'TCBA'])"
   ]
  },
  {
   "cell_type": "markdown",
   "metadata": {
    "slideshow": {
     "slide_type": "slide"
    }
   },
   "source": [
    "## Exercise 2: Calculate emissions in the different scopes using exiobase"
   ]
  },
  {
   "cell_type": "markdown",
   "metadata": {
    "slideshow": {
     "slide_type": "subslide"
    }
   },
   "source": [
    "### 2.1 Import exiobase and calculate all the IO variables"
   ]
  },
  {
   "cell_type": "code",
<<<<<<< HEAD
   "execution_count": 25,
=======
   "execution_count": null,
>>>>>>> ed99c8ca4bcfc508063dda8356bfebcc7fc087b9
   "metadata": {
    "slideshow": {
     "slide_type": "fragment"
    }
   },
<<<<<<< HEAD
   "outputs": [
    {
     "ename": "FileNotFoundError",
     "evalue": "[Errno 2] No such file or directory: 'data/IOT_2019_pxp/A.txt'",
     "output_type": "error",
     "traceback": [
      "\u001b[1;31m---------------------------------------------------------------------------\u001b[0m",
      "\u001b[1;31mFileNotFoundError\u001b[0m                         Traceback (most recent call last)",
      "Cell \u001b[1;32mIn[25], line 3\u001b[0m\n\u001b[0;32m      1\u001b[0m \u001b[38;5;66;03m# Import exiobase\u001b[39;00m\n\u001b[0;32m      2\u001b[0m path \u001b[38;5;241m=\u001b[39m \u001b[38;5;124m'\u001b[39m\u001b[38;5;124mdata/IOT_2019_pxp/\u001b[39m\u001b[38;5;124m'\u001b[39m    \u001b[38;5;66;03m# add name of folder where data is stored                                \u001b[39;00m\n\u001b[1;32m----> 3\u001b[0m A \u001b[38;5;241m=\u001b[39m \u001b[43mpd\u001b[49m\u001b[38;5;241;43m.\u001b[39;49m\u001b[43mread_csv\u001b[49m\u001b[43m(\u001b[49m\u001b[38;5;124;43mf\u001b[39;49m\u001b[38;5;124;43m'\u001b[39;49m\u001b[38;5;132;43;01m{\u001b[39;49;00m\u001b[43mpath\u001b[49m\u001b[38;5;132;43;01m}\u001b[39;49;00m\u001b[38;5;124;43mA.txt\u001b[39;49m\u001b[38;5;124;43m'\u001b[39;49m\u001b[43m,\u001b[49m\u001b[43m \u001b[49m\u001b[43msep\u001b[49m\u001b[38;5;241;43m=\u001b[39;49m\u001b[38;5;124;43m'\u001b[39;49m\u001b[38;5;130;43;01m\\t\u001b[39;49;00m\u001b[38;5;124;43m'\u001b[39;49m\u001b[43m,\u001b[49m\u001b[43m \u001b[49m\u001b[43mindex_col\u001b[49m\u001b[38;5;241;43m=\u001b[39;49m\u001b[43m[\u001b[49m\u001b[38;5;241;43m0\u001b[39;49m\u001b[43m,\u001b[49m\u001b[43m \u001b[49m\u001b[38;5;241;43m1\u001b[39;49m\u001b[43m]\u001b[49m\u001b[43m,\u001b[49m\u001b[43m \u001b[49m\u001b[43mheader\u001b[49m\u001b[38;5;241;43m=\u001b[39;49m\u001b[43m[\u001b[49m\u001b[38;5;241;43m0\u001b[39;49m\u001b[43m,\u001b[49m\u001b[43m \u001b[49m\u001b[38;5;241;43m1\u001b[39;49m\u001b[43m]\u001b[49m\u001b[43m)\u001b[49m  \u001b[38;5;66;03m# A matrix\u001b[39;00m\n\u001b[0;32m      4\u001b[0m Y \u001b[38;5;241m=\u001b[39m pd\u001b[38;5;241m.\u001b[39mread_csv(\u001b[38;5;124mf\u001b[39m\u001b[38;5;124m'\u001b[39m\u001b[38;5;132;01m{\u001b[39;00mpath\u001b[38;5;132;01m}\u001b[39;00m\u001b[38;5;124mY.txt\u001b[39m\u001b[38;5;124m'\u001b[39m, sep\u001b[38;5;241m=\u001b[39m\u001b[38;5;124m'\u001b[39m\u001b[38;5;130;01m\\t\u001b[39;00m\u001b[38;5;124m'\u001b[39m, index_col\u001b[38;5;241m=\u001b[39m[\u001b[38;5;241m0\u001b[39m, \u001b[38;5;241m1\u001b[39m], header\u001b[38;5;241m=\u001b[39m[\u001b[38;5;241m0\u001b[39m, \u001b[38;5;241m1\u001b[39m])  \u001b[38;5;66;03m# Y matrix\u001b[39;00m\n\u001b[0;32m      5\u001b[0m F \u001b[38;5;241m=\u001b[39m pd\u001b[38;5;241m.\u001b[39mread_csv(\u001b[38;5;124mf\u001b[39m\u001b[38;5;124m'\u001b[39m\u001b[38;5;132;01m{\u001b[39;00mpath\u001b[38;5;132;01m}\u001b[39;00m\u001b[38;5;124msatellite/F.txt\u001b[39m\u001b[38;5;124m'\u001b[39m, sep\u001b[38;5;241m=\u001b[39m\u001b[38;5;124m'\u001b[39m\u001b[38;5;130;01m\\t\u001b[39;00m\u001b[38;5;124m'\u001b[39m, index_col\u001b[38;5;241m=\u001b[39m[\u001b[38;5;241m0\u001b[39m], header\u001b[38;5;241m=\u001b[39m[\u001b[38;5;241m0\u001b[39m, \u001b[38;5;241m1\u001b[39m])  \u001b[38;5;66;03m# satellite matrix\u001b[39;00m\n",
      "File \u001b[1;32m~\\miniforge3\\envs\\EIOA\\Lib\\site-packages\\pandas\\io\\parsers\\readers.py:1024\u001b[0m, in \u001b[0;36mread_csv\u001b[1;34m(filepath_or_buffer, sep, delimiter, header, names, index_col, usecols, dtype, engine, converters, true_values, false_values, skipinitialspace, skiprows, skipfooter, nrows, na_values, keep_default_na, na_filter, verbose, skip_blank_lines, parse_dates, infer_datetime_format, keep_date_col, date_parser, date_format, dayfirst, cache_dates, iterator, chunksize, compression, thousands, decimal, lineterminator, quotechar, quoting, doublequote, escapechar, comment, encoding, encoding_errors, dialect, on_bad_lines, delim_whitespace, low_memory, memory_map, float_precision, storage_options, dtype_backend)\u001b[0m\n\u001b[0;32m   1011\u001b[0m kwds_defaults \u001b[38;5;241m=\u001b[39m _refine_defaults_read(\n\u001b[0;32m   1012\u001b[0m     dialect,\n\u001b[0;32m   1013\u001b[0m     delimiter,\n\u001b[1;32m   (...)\u001b[0m\n\u001b[0;32m   1020\u001b[0m     dtype_backend\u001b[38;5;241m=\u001b[39mdtype_backend,\n\u001b[0;32m   1021\u001b[0m )\n\u001b[0;32m   1022\u001b[0m kwds\u001b[38;5;241m.\u001b[39mupdate(kwds_defaults)\n\u001b[1;32m-> 1024\u001b[0m \u001b[38;5;28;01mreturn\u001b[39;00m \u001b[43m_read\u001b[49m\u001b[43m(\u001b[49m\u001b[43mfilepath_or_buffer\u001b[49m\u001b[43m,\u001b[49m\u001b[43m \u001b[49m\u001b[43mkwds\u001b[49m\u001b[43m)\u001b[49m\n",
      "File \u001b[1;32m~\\miniforge3\\envs\\EIOA\\Lib\\site-packages\\pandas\\io\\parsers\\readers.py:618\u001b[0m, in \u001b[0;36m_read\u001b[1;34m(filepath_or_buffer, kwds)\u001b[0m\n\u001b[0;32m    615\u001b[0m _validate_names(kwds\u001b[38;5;241m.\u001b[39mget(\u001b[38;5;124m\"\u001b[39m\u001b[38;5;124mnames\u001b[39m\u001b[38;5;124m\"\u001b[39m, \u001b[38;5;28;01mNone\u001b[39;00m))\n\u001b[0;32m    617\u001b[0m \u001b[38;5;66;03m# Create the parser.\u001b[39;00m\n\u001b[1;32m--> 618\u001b[0m parser \u001b[38;5;241m=\u001b[39m \u001b[43mTextFileReader\u001b[49m\u001b[43m(\u001b[49m\u001b[43mfilepath_or_buffer\u001b[49m\u001b[43m,\u001b[49m\u001b[43m \u001b[49m\u001b[38;5;241;43m*\u001b[39;49m\u001b[38;5;241;43m*\u001b[39;49m\u001b[43mkwds\u001b[49m\u001b[43m)\u001b[49m\n\u001b[0;32m    620\u001b[0m \u001b[38;5;28;01mif\u001b[39;00m chunksize \u001b[38;5;129;01mor\u001b[39;00m iterator:\n\u001b[0;32m    621\u001b[0m     \u001b[38;5;28;01mreturn\u001b[39;00m parser\n",
      "File \u001b[1;32m~\\miniforge3\\envs\\EIOA\\Lib\\site-packages\\pandas\\io\\parsers\\readers.py:1618\u001b[0m, in \u001b[0;36mTextFileReader.__init__\u001b[1;34m(self, f, engine, **kwds)\u001b[0m\n\u001b[0;32m   1615\u001b[0m     \u001b[38;5;28mself\u001b[39m\u001b[38;5;241m.\u001b[39moptions[\u001b[38;5;124m\"\u001b[39m\u001b[38;5;124mhas_index_names\u001b[39m\u001b[38;5;124m\"\u001b[39m] \u001b[38;5;241m=\u001b[39m kwds[\u001b[38;5;124m\"\u001b[39m\u001b[38;5;124mhas_index_names\u001b[39m\u001b[38;5;124m\"\u001b[39m]\n\u001b[0;32m   1617\u001b[0m \u001b[38;5;28mself\u001b[39m\u001b[38;5;241m.\u001b[39mhandles: IOHandles \u001b[38;5;241m|\u001b[39m \u001b[38;5;28;01mNone\u001b[39;00m \u001b[38;5;241m=\u001b[39m \u001b[38;5;28;01mNone\u001b[39;00m\n\u001b[1;32m-> 1618\u001b[0m \u001b[38;5;28mself\u001b[39m\u001b[38;5;241m.\u001b[39m_engine \u001b[38;5;241m=\u001b[39m \u001b[38;5;28;43mself\u001b[39;49m\u001b[38;5;241;43m.\u001b[39;49m\u001b[43m_make_engine\u001b[49m\u001b[43m(\u001b[49m\u001b[43mf\u001b[49m\u001b[43m,\u001b[49m\u001b[43m \u001b[49m\u001b[38;5;28;43mself\u001b[39;49m\u001b[38;5;241;43m.\u001b[39;49m\u001b[43mengine\u001b[49m\u001b[43m)\u001b[49m\n",
      "File \u001b[1;32m~\\miniforge3\\envs\\EIOA\\Lib\\site-packages\\pandas\\io\\parsers\\readers.py:1878\u001b[0m, in \u001b[0;36mTextFileReader._make_engine\u001b[1;34m(self, f, engine)\u001b[0m\n\u001b[0;32m   1876\u001b[0m     \u001b[38;5;28;01mif\u001b[39;00m \u001b[38;5;124m\"\u001b[39m\u001b[38;5;124mb\u001b[39m\u001b[38;5;124m\"\u001b[39m \u001b[38;5;129;01mnot\u001b[39;00m \u001b[38;5;129;01min\u001b[39;00m mode:\n\u001b[0;32m   1877\u001b[0m         mode \u001b[38;5;241m+\u001b[39m\u001b[38;5;241m=\u001b[39m \u001b[38;5;124m\"\u001b[39m\u001b[38;5;124mb\u001b[39m\u001b[38;5;124m\"\u001b[39m\n\u001b[1;32m-> 1878\u001b[0m \u001b[38;5;28mself\u001b[39m\u001b[38;5;241m.\u001b[39mhandles \u001b[38;5;241m=\u001b[39m \u001b[43mget_handle\u001b[49m\u001b[43m(\u001b[49m\n\u001b[0;32m   1879\u001b[0m \u001b[43m    \u001b[49m\u001b[43mf\u001b[49m\u001b[43m,\u001b[49m\n\u001b[0;32m   1880\u001b[0m \u001b[43m    \u001b[49m\u001b[43mmode\u001b[49m\u001b[43m,\u001b[49m\n\u001b[0;32m   1881\u001b[0m \u001b[43m    \u001b[49m\u001b[43mencoding\u001b[49m\u001b[38;5;241;43m=\u001b[39;49m\u001b[38;5;28;43mself\u001b[39;49m\u001b[38;5;241;43m.\u001b[39;49m\u001b[43moptions\u001b[49m\u001b[38;5;241;43m.\u001b[39;49m\u001b[43mget\u001b[49m\u001b[43m(\u001b[49m\u001b[38;5;124;43m\"\u001b[39;49m\u001b[38;5;124;43mencoding\u001b[39;49m\u001b[38;5;124;43m\"\u001b[39;49m\u001b[43m,\u001b[49m\u001b[43m \u001b[49m\u001b[38;5;28;43;01mNone\u001b[39;49;00m\u001b[43m)\u001b[49m\u001b[43m,\u001b[49m\n\u001b[0;32m   1882\u001b[0m \u001b[43m    \u001b[49m\u001b[43mcompression\u001b[49m\u001b[38;5;241;43m=\u001b[39;49m\u001b[38;5;28;43mself\u001b[39;49m\u001b[38;5;241;43m.\u001b[39;49m\u001b[43moptions\u001b[49m\u001b[38;5;241;43m.\u001b[39;49m\u001b[43mget\u001b[49m\u001b[43m(\u001b[49m\u001b[38;5;124;43m\"\u001b[39;49m\u001b[38;5;124;43mcompression\u001b[39;49m\u001b[38;5;124;43m\"\u001b[39;49m\u001b[43m,\u001b[49m\u001b[43m \u001b[49m\u001b[38;5;28;43;01mNone\u001b[39;49;00m\u001b[43m)\u001b[49m\u001b[43m,\u001b[49m\n\u001b[0;32m   1883\u001b[0m \u001b[43m    \u001b[49m\u001b[43mmemory_map\u001b[49m\u001b[38;5;241;43m=\u001b[39;49m\u001b[38;5;28;43mself\u001b[39;49m\u001b[38;5;241;43m.\u001b[39;49m\u001b[43moptions\u001b[49m\u001b[38;5;241;43m.\u001b[39;49m\u001b[43mget\u001b[49m\u001b[43m(\u001b[49m\u001b[38;5;124;43m\"\u001b[39;49m\u001b[38;5;124;43mmemory_map\u001b[39;49m\u001b[38;5;124;43m\"\u001b[39;49m\u001b[43m,\u001b[49m\u001b[43m \u001b[49m\u001b[38;5;28;43;01mFalse\u001b[39;49;00m\u001b[43m)\u001b[49m\u001b[43m,\u001b[49m\n\u001b[0;32m   1884\u001b[0m \u001b[43m    \u001b[49m\u001b[43mis_text\u001b[49m\u001b[38;5;241;43m=\u001b[39;49m\u001b[43mis_text\u001b[49m\u001b[43m,\u001b[49m\n\u001b[0;32m   1885\u001b[0m \u001b[43m    \u001b[49m\u001b[43merrors\u001b[49m\u001b[38;5;241;43m=\u001b[39;49m\u001b[38;5;28;43mself\u001b[39;49m\u001b[38;5;241;43m.\u001b[39;49m\u001b[43moptions\u001b[49m\u001b[38;5;241;43m.\u001b[39;49m\u001b[43mget\u001b[49m\u001b[43m(\u001b[49m\u001b[38;5;124;43m\"\u001b[39;49m\u001b[38;5;124;43mencoding_errors\u001b[39;49m\u001b[38;5;124;43m\"\u001b[39;49m\u001b[43m,\u001b[49m\u001b[43m \u001b[49m\u001b[38;5;124;43m\"\u001b[39;49m\u001b[38;5;124;43mstrict\u001b[39;49m\u001b[38;5;124;43m\"\u001b[39;49m\u001b[43m)\u001b[49m\u001b[43m,\u001b[49m\n\u001b[0;32m   1886\u001b[0m \u001b[43m    \u001b[49m\u001b[43mstorage_options\u001b[49m\u001b[38;5;241;43m=\u001b[39;49m\u001b[38;5;28;43mself\u001b[39;49m\u001b[38;5;241;43m.\u001b[39;49m\u001b[43moptions\u001b[49m\u001b[38;5;241;43m.\u001b[39;49m\u001b[43mget\u001b[49m\u001b[43m(\u001b[49m\u001b[38;5;124;43m\"\u001b[39;49m\u001b[38;5;124;43mstorage_options\u001b[39;49m\u001b[38;5;124;43m\"\u001b[39;49m\u001b[43m,\u001b[49m\u001b[43m \u001b[49m\u001b[38;5;28;43;01mNone\u001b[39;49;00m\u001b[43m)\u001b[49m\u001b[43m,\u001b[49m\n\u001b[0;32m   1887\u001b[0m \u001b[43m\u001b[49m\u001b[43m)\u001b[49m\n\u001b[0;32m   1888\u001b[0m \u001b[38;5;28;01massert\u001b[39;00m \u001b[38;5;28mself\u001b[39m\u001b[38;5;241m.\u001b[39mhandles \u001b[38;5;129;01mis\u001b[39;00m \u001b[38;5;129;01mnot\u001b[39;00m \u001b[38;5;28;01mNone\u001b[39;00m\n\u001b[0;32m   1889\u001b[0m f \u001b[38;5;241m=\u001b[39m \u001b[38;5;28mself\u001b[39m\u001b[38;5;241m.\u001b[39mhandles\u001b[38;5;241m.\u001b[39mhandle\n",
      "File \u001b[1;32m~\\miniforge3\\envs\\EIOA\\Lib\\site-packages\\pandas\\io\\common.py:873\u001b[0m, in \u001b[0;36mget_handle\u001b[1;34m(path_or_buf, mode, encoding, compression, memory_map, is_text, errors, storage_options)\u001b[0m\n\u001b[0;32m    868\u001b[0m \u001b[38;5;28;01melif\u001b[39;00m \u001b[38;5;28misinstance\u001b[39m(handle, \u001b[38;5;28mstr\u001b[39m):\n\u001b[0;32m    869\u001b[0m     \u001b[38;5;66;03m# Check whether the filename is to be opened in binary mode.\u001b[39;00m\n\u001b[0;32m    870\u001b[0m     \u001b[38;5;66;03m# Binary mode does not support 'encoding' and 'newline'.\u001b[39;00m\n\u001b[0;32m    871\u001b[0m     \u001b[38;5;28;01mif\u001b[39;00m ioargs\u001b[38;5;241m.\u001b[39mencoding \u001b[38;5;129;01mand\u001b[39;00m \u001b[38;5;124m\"\u001b[39m\u001b[38;5;124mb\u001b[39m\u001b[38;5;124m\"\u001b[39m \u001b[38;5;129;01mnot\u001b[39;00m \u001b[38;5;129;01min\u001b[39;00m ioargs\u001b[38;5;241m.\u001b[39mmode:\n\u001b[0;32m    872\u001b[0m         \u001b[38;5;66;03m# Encoding\u001b[39;00m\n\u001b[1;32m--> 873\u001b[0m         handle \u001b[38;5;241m=\u001b[39m \u001b[38;5;28;43mopen\u001b[39;49m\u001b[43m(\u001b[49m\n\u001b[0;32m    874\u001b[0m \u001b[43m            \u001b[49m\u001b[43mhandle\u001b[49m\u001b[43m,\u001b[49m\n\u001b[0;32m    875\u001b[0m \u001b[43m            \u001b[49m\u001b[43mioargs\u001b[49m\u001b[38;5;241;43m.\u001b[39;49m\u001b[43mmode\u001b[49m\u001b[43m,\u001b[49m\n\u001b[0;32m    876\u001b[0m \u001b[43m            \u001b[49m\u001b[43mencoding\u001b[49m\u001b[38;5;241;43m=\u001b[39;49m\u001b[43mioargs\u001b[49m\u001b[38;5;241;43m.\u001b[39;49m\u001b[43mencoding\u001b[49m\u001b[43m,\u001b[49m\n\u001b[0;32m    877\u001b[0m \u001b[43m            \u001b[49m\u001b[43merrors\u001b[49m\u001b[38;5;241;43m=\u001b[39;49m\u001b[43merrors\u001b[49m\u001b[43m,\u001b[49m\n\u001b[0;32m    878\u001b[0m \u001b[43m            \u001b[49m\u001b[43mnewline\u001b[49m\u001b[38;5;241;43m=\u001b[39;49m\u001b[38;5;124;43m\"\u001b[39;49m\u001b[38;5;124;43m\"\u001b[39;49m\u001b[43m,\u001b[49m\n\u001b[0;32m    879\u001b[0m \u001b[43m        \u001b[49m\u001b[43m)\u001b[49m\n\u001b[0;32m    880\u001b[0m     \u001b[38;5;28;01melse\u001b[39;00m:\n\u001b[0;32m    881\u001b[0m         \u001b[38;5;66;03m# Binary mode\u001b[39;00m\n\u001b[0;32m    882\u001b[0m         handle \u001b[38;5;241m=\u001b[39m \u001b[38;5;28mopen\u001b[39m(handle, ioargs\u001b[38;5;241m.\u001b[39mmode)\n",
      "\u001b[1;31mFileNotFoundError\u001b[0m: [Errno 2] No such file or directory: 'data/IOT_2019_pxp/A.txt'"
     ]
    }
   ],
=======
   "outputs": [],
>>>>>>> ed99c8ca4bcfc508063dda8356bfebcc7fc087b9
   "source": [
    "# Import exiobase\n",
    "path = 'data/IOT_2019_pxp/'    # add name of folder where data is stored                                \n",
    "A = pd.read_csv(f'{path}A.txt', sep='\\t', index_col=[0, 1], header=[0, 1])  # A matrix\n",
    "Z = pd.read_csv(f'{path}Z.txt', sep='\\t', index_col=[0, 1], header=[0, 1])  # Z matrix\n",
    "Y = pd.read_csv(f'{path}Y.txt', sep='\\t', index_col=[0, 1], header=[0, 1])  # Y matrix\n",
    "F = pd.read_csv(f'{path}satellite/F.txt', sep='\\t', index_col=[0], header=[0, 1])  # satellite matrix\n",
    "F_hh = pd.read_csv(f'{path}satellite/F_Y.txt', sep='\\t', index_col=[0], header=[0, 1])  # satellite for FD matrix"
   ]
  },
  {
   "cell_type": "code",
   "execution_count": null,
   "metadata": {
    "slideshow": {
     "slide_type": "subslide"
    }
   },
   "outputs": [],
   "source": [
    "\n",
    "# calculate the Leontief inverse\n",
    "I = np.identity(A.shape[0])\n",
    "L = np.linalg.inv(I - A)\n",
    "\n",
    "# Calculate total output vector (x)\n",
    "y_total = Y.sum(1)\n",
<<<<<<< HEAD
    "x = L @ y_total"
=======
    "x = L @ y_total\n",
    "\n",
    "# No regions and no sector\n",
    "no_regions = 49\n",
    "no_sectors = 200"
>>>>>>> ed99c8ca4bcfc508063dda8356bfebcc7fc087b9
   ]
  },
  {
   "cell_type": "code",
   "execution_count": null,
   "metadata": {
    "slideshow": {
     "slide_type": "subslide"
    }
   },
   "outputs": [],
   "source": [
    "# Get the CO2 emissions by combustion (\"CO2 - combustion - air\")\n",
    "F_CO2 = F.loc[\"CO2 - combustion - air\"]"
   ]
  },
  {
   "cell_type": "code",
   "execution_count": null,
   "metadata": {
    "slideshow": {
     "slide_type": "subslide"
    }
   },
   "outputs": [],
   "source": [
    "# we make a copy of our product output vector\n",
    "x_inv = x.copy() \n",
    "\n",
    "# we divide 1 by the values that are non-0\n",
<<<<<<< HEAD
    "x_inv[x_inv!=0] = 1/x_inv[x_inv!=0]\n"
=======
    "x_inv[x_inv!=0] = 1/x_inv[x_inv!=0]"
>>>>>>> ed99c8ca4bcfc508063dda8356bfebcc7fc087b9
   ]
  },
  {
   "cell_type": "code",
   "execution_count": null,
   "metadata": {
    "slideshow": {
     "slide_type": "subslide"
    }
   },
   "outputs": [],
   "source": [
    "f_CO2 = F_CO2 * x_inv"
   ]
  },
  {
   "cell_type": "markdown",
   "metadata": {
    "slideshow": {
     "slide_type": "subslide"
    }
   },
   "source": [
    "#### 2.2 Calculate CO2 multiplier from exiobase data"
   ]
  },
  {
   "cell_type": "code",
   "execution_count": null,
   "metadata": {
    "slideshow": {
     "slide_type": "fragment"
    }
   },
   "outputs": [],
   "source": [
    "f_CO2_mult = None"
   ]
  },
  {
<<<<<<< HEAD
   "cell_type": "code",
   "execution_count": null,
   "metadata": {
    "slideshow": {
     "slide_type": "fragment"
    }
   },
   "outputs": [],
   "source": [
    "F_CO2_ind = None"
   ]
  },
  {
=======
>>>>>>> ed99c8ca4bcfc508063dda8356bfebcc7fc087b9
   "cell_type": "markdown",
   "metadata": {
    "slideshow": {
     "slide_type": "subslide"
    }
   },
   "source": [
    "#### 2.3 Import IPCC concordancy matrix"
   ]
  },
  {
   "cell_type": "code",
   "execution_count": null,
   "metadata": {
    "slideshow": {
     "slide_type": "fragment"
    }
   },
   "outputs": [],
   "source": [
    "ipcc_data = \"data/IPCCsec.xlsx\"\n",
    "\n",
    "# import the xio2detail data\n",
<<<<<<< HEAD
    "IPCCagg = pd.read_excel(ipcc_data, \"xio2detail\", header=0, usecols=\"A:H\")\n",
    "IPCCagg = IPCCagg.set_index(\"B2:H201\")  # Set the first column as the index.\n",
    "IPCCagg = IPCCagg.rename_axis(None, axis=0)  # Remove the 'B2:H201' name, this is only used for MATLAB code.\n",
    "IPCCagg = IPCCagg.fillna(0)  # Change NaN into 0."
   ]
  },
  {
   "cell_type": "code",
   "execution_count": null,
   "metadata": {
    "slideshow": {
     "slide_type": "subslide"
    }
   },
   "outputs": [],
   "source": [
=======
    "IPCCagg = pd.read_excel(ipcc_data, \"xio2detail\", header=0, index_col=0, usecols=\"A:H\")\n",
    "IPCCagg = IPCCagg.fillna(0)  # Change NaN into 0.\n",
    "\n",
>>>>>>> ed99c8ca4bcfc508063dda8356bfebcc7fc087b9
    "# This is what the concordancy looks like:\n",
    "IPCCagg.head()"
   ]
  },
  {
   "cell_type": "code",
   "execution_count": null,
   "metadata": {
    "slideshow": {
     "slide_type": "subslide"
    }
   },
   "outputs": [],
   "source": [
<<<<<<< HEAD
=======
    "# This is what the concordancy looks like:\n",
    "IPCCagg.head()"
   ]
  },
  {
   "cell_type": "code",
   "execution_count": null,
   "metadata": {
    "slideshow": {
     "slide_type": "subslide"
    }
   },
   "outputs": [],
   "source": [
>>>>>>> ed99c8ca4bcfc508063dda8356bfebcc7fc087b9
    "# This is its shape\n",
    "IPCCagg.shape"
   ]
  },
  {
   "cell_type": "markdown",
   "metadata": {
    "slideshow": {
     "slide_type": "slide"
    }
   },
   "source": [
    "#### 2.4 Calculate scope 1 emissions"
   ]
  },
  {
   "cell_type": "code",
   "execution_count": null,
   "metadata": {
    "slideshow": {
     "slide_type": "fragment"
    }
   },
   "outputs": [],
   "source": [
<<<<<<< HEAD
    "# use np.reshape to organize your array in a sector by region format\n",
    "co2_x = None"
=======
    "# use np.reshape to organize your array in a sector by region format (use np.reshape with order=\"F\")\n",
    "F_CO2 = None\n",
    "\n",
    "F_CO2.shape"
>>>>>>> ed99c8ca4bcfc508063dda8356bfebcc7fc087b9
   ]
  },
  {
   "cell_type": "code",
   "execution_count": null,
   "metadata": {
    "slideshow": {
     "slide_type": "subslide"
    }
   },
   "outputs": [],
   "source": [
    "# Aggregating sectors/products by the macro-categories using the concordancy matrix\n",
    "co2_scope1 = None\n",
    "\n",
    "# adding regional labels\n",
    "reg_labels = Y.index.to_frame(False).region.unique()\n",
    "co2_scope1.index = reg_labels\n",
    "\n",
    "# inspecting the data\n",
    "co2_scope1.head()"
   ]
  },
  {
   "cell_type": "markdown",
   "metadata": {
    "slideshow": {
     "slide_type": "subslide"
    }
   },
   "source": [
    "#### 2.5 Calculate scope 2 emissions"
   ]
  },
  {
   "cell_type": "code",
   "execution_count": null,
   "metadata": {
    "slideshow": {
     "slide_type": "fragment"
    }
   },
   "outputs": [],
   "source": [
<<<<<<< HEAD
    "# Create the elec array.\n",
    "no_sectors = None\n",
    "no_regions = None\n",
    "\n",
    "first_el_pr_pos = None # first electricity product category\n",
    "last_el_pr_pos = None  # last electricity product category\n",
    "\n",
    "elec = None\n",
=======
    "first_el_pr_pos = 127 # first electricity product category\n",
    "last_el_pr_pos = 140  # last electricity product category\n",
    "\n",
    "elec = np.zeros(A.shape[0])\n",
>>>>>>> ed99c8ca4bcfc508063dda8356bfebcc7fc087b9
    "\n",
    "for i in range(no_regions):\n",
    "    start_pos = None\n",
    "    end_pos = None\n",
<<<<<<< HEAD
    "    elec[start_pos : end_pos] = None"
=======
    "    elec[start_pos : end_pos] = 1"
>>>>>>> ed99c8ca4bcfc508063dda8356bfebcc7fc087b9
   ]
  },
  {
   "cell_type": "code",
   "execution_count": null,
   "metadata": {
    "slideshow": {
     "slide_type": "subslide"
    }
   },
   "outputs": [],
   "source": [
<<<<<<< HEAD
    "# Calculate your scope 2 emissions\n",
    "co2_elec_Z = None\n",
    "\n",
    "# reshapte results according to a sector by region format\n",
    "co2_elec_z = None\n",
    "\n",
    "# Aggregating sectors/products by the macro-categories using the concordancy matrix \n",
=======
    "# Calculate the scope 2 emissions \n",
    "# by performing f×diag(electricity)×Z\n",
    "\n",
    "co2_scope2 = None\n",
    "\n",
    "# Reshape\n",
    "co2_scope2 = None\n",
    "\n",
    "# Aggregate sectors/products by the macro-categories using the concordancy matrix\n",
>>>>>>> ed99c8ca4bcfc508063dda8356bfebcc7fc087b9
    "co2_scope2 = None\n",
    "\n",
    "# adding regional labels\n",
    "reg_labels = Y.index.to_frame(False).region.unique()\n",
    "co2_scope2.index = reg_labels\n",
    "\n",
    "# inspecting the data\n",
    "co2_scope2.head()"
   ]
  },
  {
   "cell_type": "markdown",
   "metadata": {
    "slideshow": {
     "slide_type": "subslide"
    }
   },
   "source": [
    "#### 2.6 Calculate scope 3 emissions"
   ]
  },
  {
   "cell_type": "code",
   "execution_count": null,
   "metadata": {
    "slideshow": {
     "slide_type": "fragment"
    }
   },
   "outputs": [],
   "source": [
<<<<<<< HEAD
    "# Calculate your scope 3 emissions\n",
    "co2_ind_shaped = None\n",
=======
    "# Calculate scope 2 emissions by peforming \n",
    "# f×L×Z - f×diag(Elec)×Z \n",
    "\n",
    "co2_scope3 = None\n",
    "\n",
    "# Reshape\n",
    "co2_scope3 = None\n",
    "\n",
    "# Aggregate sectors/products by the macro-categories using the concordancy matrix\n",
>>>>>>> ed99c8ca4bcfc508063dda8356bfebcc7fc087b9
    "co2_scope3 = None\n",
    "\n",
    "# adding regional labels\n",
    "reg_labels = Y.index.to_frame(False).region.unique()\n",
    "co2_scope3.index = reg_labels\n",
    "\n",
    "# inspecting the data\n",
    "co2_scope3.head()"
   ]
  },
  {
   "cell_type": "markdown",
   "metadata": {
    "slideshow": {
     "slide_type": "subslide"
    }
   },
   "source": [
    "#### 2.7 Make a stacked bar plot of the results for a region"
   ]
  },
  {
   "cell_type": "code",
   "execution_count": null,
   "metadata": {
    "slideshow": {
     "slide_type": "fragment"
    }
   },
   "outputs": [],
   "source": [
    "region = \"NL\"\n",
    "\n",
    "results_dashboard = pd.DataFrame(\n",
    "    data=[co2_scope1.loc[region], co2_scope2.loc[region], co2_scope3.loc[region]],\n",
    "    columns=IPCCagg.columns,\n",
    "    index=[\"1\", \"2\", \"3\"],\n",
    ")\n",
    "results_dashboard.T.plot(kind=\"bar\", stacked=True, ylabel=\"Pg CO2 eq\", title=f\"Scopes 2019 - region {region}\")"
   ]
  }
 ],
 "metadata": {
  "celltoolbar": "Slideshow",
  "kernelspec": {
   "display_name": "Python 3 (ipykernel)",
   "language": "python",
   "name": "python3"
  },
  "language_info": {
   "codemirror_mode": {
    "name": "ipython",
    "version": 3
   },
   "file_extension": ".py",
   "mimetype": "text/x-python",
   "name": "python",
   "nbconvert_exporter": "python",
   "pygments_lexer": "ipython3",
   "version": "3.12.1"
  }
 },
 "nbformat": 4,
 "nbformat_minor": 4
}
